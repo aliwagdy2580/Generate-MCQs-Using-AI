{
  "nbformat": 4,
  "nbformat_minor": 0,
  "metadata": {
    "colab": {
      "provenance": [],
      "authorship_tag": "ABX9TyMSVbhPN8orQrERtRKzvj6n"
    },
    "kernelspec": {
      "name": "python3",
      "display_name": "Python 3"
    },
    "language_info": {
      "name": "python"
    }
  },
  "cells": [
    {
      "cell_type": "code",
      "source": [
        "!pip install git+https://github.com/boudinfl/pke.git\n",
        "!pip install matplotlib\n",
        "!python -m spacy download en_core_web_sm\n",
        "!pip install --user scipy==1.8.1"
      ],
      "metadata": {
        "id": "-bJE6kSOD6Ar"
      },
      "execution_count": null,
      "outputs": []
    },
    {
      "cell_type": "code",
      "source": [
        "import pke\n",
        "import collections\n"
      ],
      "metadata": {
        "id": "OvhlRDgHG0M-"
      },
      "execution_count": 28,
      "outputs": []
    },
    {
      "cell_type": "code",
      "source": [
        "doc = \"\"\"\n",
        "         Supervised learning is the machine learning task of learning a function that\n",
        "         maps an input to an output based on example input-output pairs. It infers a\n",
        "         function from labeled training data consisting of a set of training examples.\n",
        "         In supervised learning, each example is a pair consisting of an input object\n",
        "         (typically a vector) and a desired output value (also called the supervisory signal).\n",
        "         A supervised learning algorithm analyzes the training data and produces an inferred function,\n",
        "         which can be used for mapping new examples. An optimal scenario will allow for the\n",
        "         algorithm to correctly determine the class labels for unseen instances. This requires\n",
        "         the learning algorithm to generalize from the training data to unseen situations in a\n",
        "         'reasonable' way (see inductive bias).\n",
        "      \"\"\""
      ],
      "metadata": {
        "id": "NTUoQICbCjm9"
      },
      "execution_count": 34,
      "outputs": []
    },
    {
      "cell_type": "markdown",
      "source": [
        "##topicRank"
      ],
      "metadata": {
        "id": "J7QNhHj0Dpo_"
      }
    },
    {
      "cell_type": "code",
      "source": [
        "def topicRank(text):\n",
        "  # initialize keyphrase extraction model, here TopicRank\n",
        "  extractor = pke.unsupervised.TopicRank()\n",
        "\n",
        "  # load the content of the document, here document is expected to be in raw\n",
        "  # format (i.e. a simple text file) and preprocessing is carried out using spacy\n",
        "  extractor.load_document(input=text, language='en')\n",
        "\n",
        "  # keyphrase candidate selection, in the case of TopicRank: sequences of nouns\n",
        "  # and adjectives (i.e. `(Noun|Adj)*`)\n",
        "  extractor.candidate_selection()\n",
        "\n",
        "  # candidate weighting, in the case of TopicRank: using a random walk algorithm\n",
        "  extractor.candidate_weighting()\n",
        "\n",
        "  # N-best selection, keyphrases contains the 10 highest scored candidates as\n",
        "  # (keyphrase, score) tuples\n",
        "  keyphrases = extractor.get_n_best(n=10)\n",
        "  return [a_tuple[0] for a_tuple in keyphrases]"
      ],
      "metadata": {
        "id": "5wVADkhdCjpc"
      },
      "execution_count": 35,
      "outputs": []
    },
    {
      "cell_type": "code",
      "source": [
        "topicRank(doc)"
      ],
      "metadata": {
        "id": "qFzGsvbwENYt",
        "colab": {
          "base_uri": "https://localhost:8080/"
        },
        "outputId": "f15e00bc-1f50-4235-a4ff-652102e8a059"
      },
      "execution_count": 36,
      "outputs": [
        {
          "output_type": "execute_result",
          "data": {
            "text/plain": [
              "['training examples',\n",
              " 'training data',\n",
              " 'supervised learning',\n",
              " 'function',\n",
              " 'example input-output pairs',\n",
              " 'unseen instances',\n",
              " 'input',\n",
              " 'output',\n",
              " 'algorithm',\n",
              " 'set']"
            ]
          },
          "metadata": {},
          "execution_count": 36
        }
      ]
    },
    {
      "cell_type": "markdown",
      "source": [
        "##yake"
      ],
      "metadata": {
        "id": "kN5z6-JTDrZs"
      }
    },
    {
      "cell_type": "code",
      "source": [
        "def yake(text):\n",
        "  # initialize keyphrase extraction model, here TopicRank\n",
        "  extractor = pke.unsupervised.YAKE()\n",
        "\n",
        "  # load the content of the document, here document is expected to be in raw\n",
        "  # format (i.e. a simple text file) and preprocessing is carried out using spacy\n",
        "  extractor.load_document(input=text, language='en')\n",
        "\n",
        "  # keyphrase candidate selection, in the case of TopicRank: sequences of nouns\n",
        "  # and adjectives (i.e. `(Noun|Adj)*`)\n",
        "  extractor.candidate_selection()\n",
        "\n",
        "  # candidate weighting, in the case of TopicRank: using a random walk algorithm\n",
        "  extractor.candidate_weighting()\n",
        "\n",
        "  # N-best selection, keyphrases contains the 10 highest scored candidates as\n",
        "  # (keyphrase, score) tuples\n",
        "  keyphrases = extractor.get_n_best(n=10)\n",
        "  return [a_tuple[0] for a_tuple in keyphrases]\n"
      ],
      "metadata": {
        "id": "qfh11V0RCjr_"
      },
      "execution_count": 37,
      "outputs": []
    },
    {
      "cell_type": "code",
      "source": [
        "yakeKeyWords = yake(doc)\n",
        "print(yakeKeyWords)"
      ],
      "metadata": {
        "id": "eA_0xbiwIV_q",
        "colab": {
          "base_uri": "https://localhost:8080/"
        },
        "outputId": "c368e10c-b5fe-4490-f486-9ae41ecc52c4"
      },
      "execution_count": 38,
      "outputs": [
        {
          "output_type": "stream",
          "name": "stdout",
          "text": [
            "['example input-output pairs', 'machine learning task', 'supervised learning', 'input-output pairs', 'learning', 'training data', 'supervised', 'output based', 'example input-output', 'function']\n"
          ]
        }
      ]
    },
    {
      "cell_type": "markdown",
      "source": [
        "##multipartiteRank"
      ],
      "metadata": {
        "id": "AG5xljEJDu63"
      }
    },
    {
      "cell_type": "code",
      "source": [
        "\n",
        "def multipartiteRank(text):\n",
        "  # initialize keyphrase extraction model, here TopicRank\n",
        "  extractor = pke.unsupervised.MultipartiteRank()\n",
        "\n",
        "  # load the content of the document, here document is expected to be in raw\n",
        "  # format (i.e. a simple text file) and preprocessing is carried out using spacy\n",
        "  extractor.load_document(input=text, language='en')\n",
        "\n",
        "  # keyphrase candidate selection, in the case of TopicRank: sequences of nouns\n",
        "  # and adjectives (i.e. `(Noun|Adj)*`)\n",
        "  extractor.candidate_selection()\n",
        "\n",
        "  # candidate weighting, in the case of TopicRank: using a random walk algorithm\n",
        "  extractor.candidate_weighting()\n",
        "\n",
        "  # N-best selection, keyphrases contains the 10 highest scored candidates as\n",
        "  # (keyphrase, score) tuples\n",
        "  keyphrases = extractor.get_n_best(n=10)\n",
        "  return [a_tuple[0] for a_tuple in keyphrases]"
      ],
      "metadata": {
        "id": "xi14fgs1Cjuy"
      },
      "execution_count": 39,
      "outputs": []
    },
    {
      "cell_type": "code",
      "source": [
        "multipartiteRankKeyWords = multipartiteRank(doc)\n",
        "print(multipartiteRankKeyWords)"
      ],
      "metadata": {
        "id": "jT--zBL4JU7c",
        "colab": {
          "base_uri": "https://localhost:8080/"
        },
        "outputId": "58785277-a807-4d52-c8e1-f2bd21c681f4"
      },
      "execution_count": 40,
      "outputs": [
        {
          "output_type": "stream",
          "name": "stdout",
          "text": [
            "['supervised learning', 'training examples', 'function', 'training data', 'example input-output pairs', 'output', 'input', 'unseen instances', 'set', 'algorithm']\n"
          ]
        }
      ]
    },
    {
      "cell_type": "markdown",
      "source": [
        "##TfIdf"
      ],
      "metadata": {
        "id": "gUykZuDSDwmN"
      }
    },
    {
      "cell_type": "code",
      "source": [
        "def TfIdf(text):\n",
        "  # initialize keyphrase extraction model, here TopicRank\n",
        "  extractor = pke.unsupervised.TfIdf()\n",
        "\n",
        "  # load the content of the document, here document is expected to be in raw\n",
        "  # format (i.e. a simple text file) and preprocessing is carried out using spacy\n",
        "  extractor.load_document(input=text, language='en' )\n",
        "\n",
        "  # keyphrase candidate selection, in the case of TopicRank: sequences of nouns\n",
        "  # and adjectives (i.e. `(Noun|Adj)*`)\n",
        "  extractor.candidate_selection()\n",
        "\n",
        "  # candidate weighting, in the case of TopicRank: using a random walk algorithm\n",
        "  extractor.candidate_weighting()\n",
        "\n",
        "  # N-best selection, keyphrases contains the 10 highest scored candidates as\n",
        "  # (keyphrase, score) tuples\n",
        "  keyphrases = extractor.get_n_best(n=10)\n",
        "  return [a_tuple[0] for a_tuple in keyphrases]"
      ],
      "metadata": {
        "id": "h7tOzK4ICjxs"
      },
      "execution_count": 41,
      "outputs": []
    },
    {
      "cell_type": "code",
      "source": [
        "tfidfKeyWords = TfIdf(doc)\n",
        "print(tfidfKeyWords)"
      ],
      "metadata": {
        "id": "LWZArvZ9Jchp",
        "colab": {
          "base_uri": "https://localhost:8080/"
        },
        "outputId": "07041965-68cc-481b-938b-e34a851d2bfb"
      },
      "execution_count": 42,
      "outputs": [
        {
          "output_type": "stream",
          "name": "stderr",
          "text": [
            "WARNING:root:LoadFile._df_counts is hard coded to /usr/local/lib/python3.8/dist-packages/pke/models/df-semeval2010.tsv.gz\n"
          ]
        },
        {
          "output_type": "stream",
          "name": "stdout",
          "text": [
            "['supervised learning', 'supervised', 'training data', 'unseen', 'training', 'learning', 'output based', 'example input-output', 'example input-output pairs', 'input-output']\n"
          ]
        }
      ]
    },
    {
      "cell_type": "markdown",
      "source": [
        "##KeyBERT"
      ],
      "metadata": {
        "id": "DoxLeCUcDf0n"
      }
    },
    {
      "cell_type": "code",
      "source": [
        "!pip install keybert\n",
        "!pip install keybert[flair]\n",
        "!pip install keybert[gensim]\n",
        "!pip install keybert[spacy]\n",
        "!pip install keybert[use]"
      ],
      "metadata": {
        "id": "PsEitBhXCrlp"
      },
      "execution_count": null,
      "outputs": []
    },
    {
      "cell_type": "code",
      "source": [
        "from keybert import KeyBERT\n",
        "\n",
        "kw_model = KeyBERT()\n",
        "keywords = kw_model.extract_keywords(doc)\n"
      ],
      "metadata": {
        "id": "D0RtRFbsCrnp"
      },
      "execution_count": 43,
      "outputs": []
    },
    {
      "cell_type": "code",
      "source": [
        "keywords"
      ],
      "metadata": {
        "colab": {
          "base_uri": "https://localhost:8080/"
        },
        "id": "S9jIsOXbjTxP",
        "outputId": "3a867a89-e6c6-4c51-a2f6-0b61f135a678"
      },
      "execution_count": 44,
      "outputs": [
        {
          "output_type": "execute_result",
          "data": {
            "text/plain": [
              "[('supervised', 0.6676),\n",
              " ('labeled', 0.4896),\n",
              " ('learning', 0.4813),\n",
              " ('training', 0.4134),\n",
              " ('labels', 0.3947)]"
            ]
          },
          "metadata": {},
          "execution_count": 44
        }
      ]
    },
    {
      "cell_type": "code",
      "source": [
        "KeyBERT= kw_model.extract_keywords(doc, keyphrase_ngram_range=(1, 2) )\n",
        "KeyBERT_ans=[]\n",
        "\n",
        "for i in range(len(KeyBERT)):\n",
        "  KeyBERT_ans.append(KeyBERT[i][0])\n",
        "print(KeyBERT_ans)"
      ],
      "metadata": {
        "id": "3KU_MnC2DBk-",
        "colab": {
          "base_uri": "https://localhost:8080/"
        },
        "outputId": "e8b4f08a-fa53-4b9f-9cd1-9cdb2671ca04"
      },
      "execution_count": 45,
      "outputs": [
        {
          "output_type": "stream",
          "name": "stdout",
          "text": [
            "['supervised learning', 'supervised', 'signal supervised', 'examples supervised', 'labeled training']\n"
          ]
        }
      ]
    },
    {
      "cell_type": "code",
      "source": [],
      "metadata": {
        "id": "-OtcL6iBDBnl"
      },
      "execution_count": null,
      "outputs": []
    },
    {
      "cell_type": "code",
      "source": [],
      "metadata": {
        "id": "qrY7lOuRDBp4"
      },
      "execution_count": null,
      "outputs": []
    }
  ]
}