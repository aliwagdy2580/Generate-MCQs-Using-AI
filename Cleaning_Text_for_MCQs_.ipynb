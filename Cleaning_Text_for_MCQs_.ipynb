{
  "nbformat": 4,
  "nbformat_minor": 0,
  "metadata": {
    "colab": {
      "provenance": [],
      "authorship_tag": "ABX9TyMDklzACSRdIum2fpkGn4dK",
      "include_colab_link": true
    },
    "kernelspec": {
      "name": "python3",
      "display_name": "Python 3"
    },
    "language_info": {
      "name": "python"
    },
    "accelerator": "GPU",
    "gpuClass": "standard"
  },
  "cells": [
    {
      "cell_type": "markdown",
      "metadata": {
        "id": "view-in-github",
        "colab_type": "text"
      },
      "source": [
        "<a href=\"https://colab.research.google.com/github/aliwagdy2580/Generate-MCQs-Using-AI/blob/main/Cleaning_Text_for_MCQs_.ipynb\" target=\"_parent\"><img src=\"https://colab.research.google.com/assets/colab-badge.svg\" alt=\"Open In Colab\"/></a>"
      ]
    },
    {
      "cell_type": "markdown",
      "source": [
        "#Cleaning Text\n",
        "\n"
      ],
      "metadata": {
        "id": "GASuKc_2ZLrR"
      }
    },
    {
      "cell_type": "code",
      "source": [
        "import re\n",
        "import string\n",
        "import nltk\n",
        "\n",
        "from nltk.tokenize import word_tokenize\n",
        "from nltk.corpus import stopwords\n",
        "\n",
        "nltk.download('wordnet')\n",
        "nltk.download('averaged_perceptron_tagger')\n",
        "nltk.download('omw-1.4')\n",
        "nltk.download('punkt')\n",
        "nltk.download('stopwords')\n",
        "\n",
        "stop_words = stopwords.words('english')\n"
      ],
      "metadata": {
        "id": "9piVuVviZTNM",
        "colab": {
          "base_uri": "https://localhost:8080/"
        },
        "outputId": "bd4b665e-39ba-48f6-fda2-46085a625530"
      },
      "execution_count": 20,
      "outputs": [
        {
          "output_type": "stream",
          "name": "stderr",
          "text": [
            "[nltk_data] Downloading package wordnet to /root/nltk_data...\n",
            "[nltk_data]   Package wordnet is already up-to-date!\n",
            "[nltk_data] Downloading package averaged_perceptron_tagger to\n",
            "[nltk_data]     /root/nltk_data...\n",
            "[nltk_data]   Package averaged_perceptron_tagger is already up-to-\n",
            "[nltk_data]       date!\n",
            "[nltk_data] Downloading package omw-1.4 to /root/nltk_data...\n",
            "[nltk_data]   Package omw-1.4 is already up-to-date!\n",
            "[nltk_data] Downloading package punkt to /root/nltk_data...\n",
            "[nltk_data]   Package punkt is already up-to-date!\n",
            "[nltk_data] Downloading package stopwords to /root/nltk_data...\n",
            "[nltk_data]   Package stopwords is already up-to-date!\n"
          ]
        }
      ]
    },
    {
      "cell_type": "code",
      "source": [
        "text = \"        machine learning ml is a field of inquiry العاب devoted to 15 understanding [s0] and building methods that learn ali25@gmail.com\""
      ],
      "metadata": {
        "id": "3qCK7ncI5wgp"
      },
      "execution_count": 32,
      "outputs": []
    },
    {
      "cell_type": "markdown",
      "source": [
        "###remove non_ascii"
      ],
      "metadata": {
        "id": "TfQAAIMvh15c"
      }
    },
    {
      "cell_type": "code",
      "source": [
        "text.encode('ascii','ignore').decode()"
      ],
      "metadata": {
        "colab": {
          "base_uri": "https://localhost:8080/",
          "height": 35
        },
        "id": "qbSviHFP5erB",
        "outputId": "f4c6982e-a2e3-47b1-f535-1ac066f73540"
      },
      "execution_count": 24,
      "outputs": [
        {
          "output_type": "execute_result",
          "data": {
            "text/plain": [
              "'machine learning ml is a field of inquiry  devoted to 15 understanding [s0] and building methods that learn'"
            ],
            "application/vnd.google.colaboratory.intrinsic+json": {
              "type": "string"
            }
          },
          "metadata": {},
          "execution_count": 24
        }
      ]
    },
    {
      "cell_type": "markdown",
      "source": [
        "###remove brackets num"
      ],
      "metadata": {
        "id": "p3ccC0ONh8Dc"
      }
    },
    {
      "cell_type": "code",
      "source": [
        "re.sub(\"\\[.*]\",\"\",text)"
      ],
      "metadata": {
        "colab": {
          "base_uri": "https://localhost:8080/",
          "height": 35
        },
        "id": "TYkWPFcO5vjT",
        "outputId": "eafef94d-c5c6-4622-c3fb-75ead5e94173"
      },
      "execution_count": 25,
      "outputs": [
        {
          "output_type": "execute_result",
          "data": {
            "text/plain": [
              "'machine learning ml is a field of inquiry العاب devoted to 15 understanding  and building methods that learn'"
            ],
            "application/vnd.google.colaboratory.intrinsic+json": {
              "type": "string"
            }
          },
          "metadata": {},
          "execution_count": 25
        }
      ]
    },
    {
      "cell_type": "markdown",
      "source": [
        "### convert to lower"
      ],
      "metadata": {
        "id": "YSKK6s9DiIYI"
      }
    },
    {
      "cell_type": "code",
      "source": [
        "text.lower()"
      ],
      "metadata": {
        "colab": {
          "base_uri": "https://localhost:8080/",
          "height": 35
        },
        "id": "0wY1poHS5vk2",
        "outputId": "6aed4b40-b4a0-4eed-bb3b-bf9d6e05a984"
      },
      "execution_count": 26,
      "outputs": [
        {
          "output_type": "execute_result",
          "data": {
            "text/plain": [
              "'machine learning ml is a field of inquiry العاب devoted to 15 understanding [s0] and building methods that learn'"
            ],
            "application/vnd.google.colaboratory.intrinsic+json": {
              "type": "string"
            }
          },
          "metadata": {},
          "execution_count": 26
        }
      ]
    },
    {
      "cell_type": "markdown",
      "source": [
        "###remove num"
      ],
      "metadata": {
        "id": "X9hHUU69iLfd"
      }
    },
    {
      "cell_type": "code",
      "source": [
        "re.sub(r'\\d+','',text)"
      ],
      "metadata": {
        "colab": {
          "base_uri": "https://localhost:8080/",
          "height": 35
        },
        "id": "2VLLm-4i5eyb",
        "outputId": "df766f79-aa15-4d9e-fe55-e4190de09516"
      },
      "execution_count": 27,
      "outputs": [
        {
          "output_type": "execute_result",
          "data": {
            "text/plain": [
              "'machine learning ml is a field of inquiry العاب devoted to  understanding [s] and building methods that learn'"
            ],
            "application/vnd.google.colaboratory.intrinsic+json": {
              "type": "string"
            }
          },
          "metadata": {},
          "execution_count": 27
        }
      ]
    },
    {
      "cell_type": "markdown",
      "source": [
        "###remove whitespace"
      ],
      "metadata": {
        "id": "hrxSwUPeiS_f"
      }
    },
    {
      "cell_type": "code",
      "source": [
        "text.strip()"
      ],
      "metadata": {
        "colab": {
          "base_uri": "https://localhost:8080/",
          "height": 35
        },
        "id": "nXCbWdAz5ez8",
        "outputId": "808def01-3870-4515-ea05-03e049cb52d4"
      },
      "execution_count": 29,
      "outputs": [
        {
          "output_type": "execute_result",
          "data": {
            "text/plain": [
              "'machine learning ml is a field of inquiry العاب devoted to 15 understanding [s0] and building methods that learn'"
            ],
            "application/vnd.google.colaboratory.intrinsic+json": {
              "type": "string"
            }
          },
          "metadata": {},
          "execution_count": 29
        }
      ]
    },
    {
      "cell_type": "markdown",
      "source": [
        "### remove punctuation"
      ],
      "metadata": {
        "id": "hYODVPybin2W"
      }
    },
    {
      "cell_type": "code",
      "source": [
        "punctuation= '''!()[]{};:'\"\\<>/?$%^&*_`~='''\n",
        "for punc in punctuation:\n",
        "    text=text.replace(punc,\"\")\n",
        "text"
      ],
      "metadata": {
        "id": "bapb5dhFiqrl",
        "colab": {
          "base_uri": "https://localhost:8080/",
          "height": 35
        },
        "outputId": "dd26dd21-b1cc-4e42-ba06-52a906ee9e15"
      },
      "execution_count": 31,
      "outputs": [
        {
          "output_type": "execute_result",
          "data": {
            "text/plain": [
              "'        machine learning ml is a field of inquiry العاب devoted to 15 understanding s0 and building methods that learn'"
            ],
            "application/vnd.google.colaboratory.intrinsic+json": {
              "type": "string"
            }
          },
          "metadata": {},
          "execution_count": 31
        }
      ]
    },
    {
      "cell_type": "markdown",
      "source": [
        "### remove emails"
      ],
      "metadata": {
        "id": "t_six_BCiuT1"
      }
    },
    {
      "cell_type": "code",
      "source": [
        "re.sub(r'[A-Za-z0-9]*@[A-Za-z]*\\.?[A-Za-z0-9]*', \"\", text)"
      ],
      "metadata": {
        "colab": {
          "base_uri": "https://localhost:8080/",
          "height": 35
        },
        "id": "l6BtThdnizqt",
        "outputId": "90750cc3-39b6-48fc-d9c6-9ae480c1a214"
      },
      "execution_count": 33,
      "outputs": [
        {
          "output_type": "execute_result",
          "data": {
            "text/plain": [
              "'        machine learning ml is a field of inquiry العاب devoted to 15 understanding [s0] and building methods that learn '"
            ],
            "application/vnd.google.colaboratory.intrinsic+json": {
              "type": "string"
            }
          },
          "metadata": {},
          "execution_count": 33
        }
      ]
    },
    {
      "cell_type": "markdown",
      "source": [
        "### convert text to words"
      ],
      "metadata": {
        "id": "csvZ7YcUib3t"
      }
    },
    {
      "cell_type": "code",
      "source": [
        "words = word_tokenize(text)"
      ],
      "metadata": {
        "id": "vWfPHY-f5e2S"
      },
      "execution_count": 34,
      "outputs": []
    },
    {
      "cell_type": "code",
      "source": [
        "words"
      ],
      "metadata": {
        "colab": {
          "base_uri": "https://localhost:8080/"
        },
        "id": "cZfeOPL_87ch",
        "outputId": "9d66faa4-dbab-4016-9363-aefb7a48ff5a"
      },
      "execution_count": 36,
      "outputs": [
        {
          "output_type": "execute_result",
          "data": {
            "text/plain": [
              "['machine',\n",
              " 'learning',\n",
              " 'ml',\n",
              " 'is',\n",
              " 'a',\n",
              " 'field',\n",
              " 'of',\n",
              " 'inquiry',\n",
              " 'العاب',\n",
              " 'devoted',\n",
              " 'to',\n",
              " '15',\n",
              " 'understanding',\n",
              " '[',\n",
              " 's0',\n",
              " ']',\n",
              " 'and',\n",
              " 'building',\n",
              " 'methods',\n",
              " 'that',\n",
              " 'learn',\n",
              " 'ali25',\n",
              " '@',\n",
              " 'gmail.com']"
            ]
          },
          "metadata": {},
          "execution_count": 36
        }
      ]
    },
    {
      "cell_type": "markdown",
      "source": [
        "###remove stopwords"
      ],
      "metadata": {
        "id": "FPSufS7AjBMu"
      }
    },
    {
      "cell_type": "code",
      "source": [
        "[word for word in words if word not in stop_words]"
      ],
      "metadata": {
        "id": "3wC5pgDL5e5c",
        "colab": {
          "base_uri": "https://localhost:8080/"
        },
        "outputId": "392967cb-b0c7-425a-f0f0-efe28ac8d6f3"
      },
      "execution_count": 38,
      "outputs": [
        {
          "output_type": "execute_result",
          "data": {
            "text/plain": [
              "['machine',\n",
              " 'learning',\n",
              " 'ml',\n",
              " 'field',\n",
              " 'inquiry',\n",
              " 'العاب',\n",
              " 'devoted',\n",
              " '15',\n",
              " 'understanding',\n",
              " '[',\n",
              " 's0',\n",
              " ']',\n",
              " 'building',\n",
              " 'methods',\n",
              " 'learn',\n",
              " 'ali25',\n",
              " '@',\n",
              " 'gmail.com']"
            ]
          },
          "metadata": {},
          "execution_count": 38
        }
      ]
    },
    {
      "cell_type": "code",
      "source": [
        "stop_words"
      ],
      "metadata": {
        "id": "MfbEIK6CklVS"
      },
      "execution_count": null,
      "outputs": []
    },
    {
      "cell_type": "code",
      "source": [],
      "metadata": {
        "id": "HYAWQfq23lur"
      },
      "execution_count": null,
      "outputs": []
    },
    {
      "cell_type": "code",
      "source": [],
      "metadata": {
        "id": "Qwf27X--3lxn"
      },
      "execution_count": null,
      "outputs": []
    },
    {
      "cell_type": "code",
      "source": [
        "def remove_non_ascii(text):\n",
        "  \"\"\"Remove non-ASCII characters from list of tokenized words\"\"\"\n",
        "  return text.encode('ascii','ignore').decode()\n",
        "\n",
        "def remove_brackets_num(text):\n",
        "  return re.sub(\"\\[.*?\\]\",\"\",text)\n",
        "\n",
        "def to_lowercase(text):\n",
        "    return text.lower()\n",
        "\n",
        "def replace_numbers(text):\n",
        "  \"\"\"Replace all interger occurrences in list of tokenized words with textual representation\"\"\"\n",
        "  return re.sub(r'\\d+','',text)\n",
        "\n",
        "def remove_whitespace(text):\n",
        "      return text.strip()\n",
        " \n",
        "def remove_punctuation(text):\n",
        "    punctuation= '''!()[]{};:'\"\\<>/?$%^&*_`~='''\n",
        "    for punc in punctuation:\n",
        "        text=text.replace(punc,\"\")\n",
        "    return text\n",
        "\n",
        "def remove_emails(text):\n",
        "    return re.sub(r'[A-Za-z0-9]*@[A-Za-z]*\\.?[A-Za-z0-9]*', \"\", text)\n",
        "\n",
        "def text2words(text):\n",
        "  return word_tokenize(text)\n",
        "\n",
        "def remove_stopwords(words,stop_words):\n",
        "  return [word for word in words if word not in stop_words]\n",
        "\n"
      ],
      "metadata": {
        "id": "JOU7xjd-3lhY"
      },
      "execution_count": 39,
      "outputs": []
    },
    {
      "cell_type": "code",
      "source": [
        "\n",
        "def normalize_text(text):\n",
        "  text = remove_non_ascii(text)\n",
        "  text= remove_brackets_num(text)\n",
        "  text = to_lowercase(text)\n",
        "  #text=replace_numbers(text)\n",
        "  text= remove_whitespace(text)\n",
        "  text = remove_punctuation(text)\n",
        "  text= remove_emails(text)\n",
        "  words = text2words(text)\n",
        "  #words = remove_stopwords(words, stop_words)\n",
        "\n",
        "  return ' '.join(words)"
      ],
      "metadata": {
        "id": "UKErCaCF3lkV"
      },
      "execution_count": 40,
      "outputs": []
    },
    {
      "cell_type": "code",
      "source": [
        "clean_data = normalize_text(text)"
      ],
      "metadata": {
        "id": "z5bG98uq3lms"
      },
      "execution_count": 41,
      "outputs": []
    },
    {
      "cell_type": "code",
      "source": [
        "clean_data"
      ],
      "metadata": {
        "id": "IkrxSShOZLS4",
        "colab": {
          "base_uri": "https://localhost:8080/",
          "height": 35
        },
        "outputId": "9042724f-3687-4471-8c58-47b10fbbdbe9"
      },
      "execution_count": 42,
      "outputs": [
        {
          "output_type": "execute_result",
          "data": {
            "text/plain": [
              "'machine learning ml is a field of inquiry devoted to 15 understanding and building methods that learn'"
            ],
            "application/vnd.google.colaboratory.intrinsic+json": {
              "type": "string"
            }
          },
          "metadata": {},
          "execution_count": 42
        }
      ]
    },
    {
      "cell_type": "code",
      "source": [],
      "metadata": {
        "id": "oM6n7H9jZLWE"
      },
      "execution_count": null,
      "outputs": []
    },
    {
      "cell_type": "code",
      "source": [],
      "metadata": {
        "id": "L7UcE86BZLY0"
      },
      "execution_count": null,
      "outputs": []
    }
  ]
}