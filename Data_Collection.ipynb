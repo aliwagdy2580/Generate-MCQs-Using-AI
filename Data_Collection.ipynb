{
  "cells": [
    {
      "cell_type": "markdown",
      "metadata": {
        "id": "view-in-github",
        "colab_type": "text"
      },
      "source": [
        "<a href=\"https://colab.research.google.com/github/aliwagdy2580/Generate-MCQs-Using-AI/blob/main/Data_Collection.ipynb\" target=\"_parent\"><img src=\"https://colab.research.google.com/assets/colab-badge.svg\" alt=\"Open In Colab\"/></a>"
      ]
    },
    {
      "cell_type": "markdown",
      "source": [
        "#Read Files"
      ],
      "metadata": {
        "id": "ZF7wzpCLgz6D"
      }
    },
    {
      "cell_type": "markdown",
      "source": [
        "##read and write in txt file"
      ],
      "metadata": {
        "id": "v9wgufoBJ6rp"
      }
    },
    {
      "cell_type": "code",
      "source": [
        "text='''Machine learning (ML) is a field of inquiry devoted to understanding and building methods that \\'learn\\', that is, methods that leverage data to improve performance on some set of tasks.\\n[1] It is seen as a part of artificial intelligence. Machine learning algorithms build a model based on sample data, known as training data, in order to make predictions or decisions without being explicitly programmed to do so.\\n[2] Machine learning algorithms are used in a wide variety of applications, such as in medicine, email filtering, speech recognition, agriculture, and computer vision, where it is difficult or unfeasible to develop conventional algorithms to perform the needed tasks.\\n[3][4] A subset of machine learning is closely related to computational statistics, which focuses on making predictions using computers, but not all machine learning is statistical learning.\\n The study of mathematical optimization delivers methods, theory and application domains to the field of machine learning. Data mining is a related field of study, focusing on exploratory data analysis through unsupervised learning.\\n [6][7] Some implementations of machine learning use data and neural networks in a way that mimics the working of a biological brain.\\n [8][9] In its application across business problems, machine learning is also referred to as predictive analytics.~ \\n Learning algorithms work on the basis that strategies, algorithms, and inferences that worked well in the past are likely to continue working well in the future. \\n These inferences can be obvious, such as \"since the sun rose every morning for the last 10,000 days, it will probably rise tomorrow morning as well\". They can be nuanced, such as \"X% of families have geographically separate species with color variants, so there is a Y% chance that undiscovered black swans exist\".[10]\\n\\nMachine learning programs can perform tasks without being explicitly programmed to do so. It involves computers learning from data provided so that they carry out certain tasks. \\nFor simple tasks assigned to computers, it is possible to program algorithms telling the machine how to execute all steps required to solve the problem at hand; on the computer\\'s part, no learning is needed. For more advanced tasks, it can be challenging for a human to manually create the needed algorithms.\\n In practice, it can turn out to be more effective to help the machine develop its own algorithm, rather than having human programmers specify every needed step.[11]\\n\\nThe discipline of machine learning employs various approaches to teach computers to accomplish tasks where no fully satisfactory algorithm is available. In cases where vast numbers of potential answers exist, one approach is to label some of the correct answers as valid. This can then be used as training data for the computer to improve the algorithm(s) it uses to determine correct answers. \\nFor example, to train a system for the task of digital character recognition, the MNIST dataset of handwritten digits has often been used.\\n[11] The term machine learning was coined in 1959 by Arthur Samuel, an IBM employee and pioneer in the field of computer gaming and artificial intelligence.[12][13] Also the synonym self-teaching computers were used in this time period.[14][15]\\n\\nBy the early 1960s an experimental \"learning machine\" with punched tape memory, called Cybertron, had been developed by Raytheon Company to analyze sonar signals, electrocardiograms, and speech patterns using rudimentary reinforcement learning. It was repetitively \"trained\" by a human operator/teacher to recognize patterns and equipped with a \"goof\" button to cause it to re-evaluate incorrect decisions.\\n[16] A representative book on research into machine learning during the 1960s was Nilsson\\'s book on Learning Machines, dealing mostly with machine learning for pattern classification.\\n[17] Interest related to pattern recognition continued into the 1970s, as described by Duda and Hart in 1973.[18] In 1981 a report was given on using teaching strategies so that a neural network learns to recognize 40 characters (26 letters, 10 digits, and 4 special symbols) from a computer terminal.[19]\\n\\nTom M. Mitchell provided a widely quoted, more formal definition of the algorithms studied in the machine learning field: \"A computer program is said to learn from experience E with respect to some class of tasks T and performance measure P if its performance at tasks in T, as measured by P, improves with experience E.\"\\n[20] This definition of the tasks in which machine learning is concerned offers a fundamentally operational definition rather than defining the field in cognitive terms.\\n This follows Alan Turing\\'s proposal in his paper \"Computing Machinery and Intelligence\", in which the question \"Can machines think?\" is replaced with the question \"Can machines do what we (as thinking entities) can do?\".[21]\\n\\nModern-day machine learning has two objectives, one is to classify data based on models which have been developed, the other purpose is to make predictions for future outcomes based on these models. \\nA hypothetical algorithm specific to classifying data may use computer vision of moles coupled with supervised learning in order to train it to classify the cancerous moles. A machine learning algorithm for stock trading may inform the trader of future potential predictions.[22]Artificial intelligence\\n\\nMachine learning as subfield of AI[23]\\n\\nPart of machine learning as subfield of AI or part of AI as subfield of machine learning[24]\\nAs a scientific endeavor, machine learning grew out of the quest for artificial intelligence. In the early days of AI as an academic discipline, some researchers were interested in having machines learn from data. \\nThey attempted to approach the problem with various symbolic methods, as well as what was then termed \"neural networks\"; these were mostly perceptrons and other models that were later found to be reinventions of the generalized linear models of statistics.\\n[25] Probabilistic reasoning was also employed, especially in automated medical diagnosis.\\n\\nHowever, an increasing emphasis on the logical, knowledge-based approach caused a rift between AI and machine learning. Probabilistic systems were plagued by theoretical and practical problems of data acquisition and representation.\\n[26]:\\u200a488\\u200a By 1980, expert systems had come to dominate AI, and statistics was out of favor.[27] Work on symbolic/knowledge-based learning did continue within AI, leading to inductive logic programming, but the more statistical line of research was now outside the field of AI proper, in pattern recognition and information retrieval.\\n[26]:\\u200a708–710,\\u200a755\\u200a Neural networks research had been abandoned by AI and computer science around the same time.\\n This line, too, was continued outside the AI/CS field, as \"connectionism\", by researchers from other disciplines including Hopfield, Rumelhart, and Hinton. Their main success came in the mid-1980s with the reinvention of backpropagation.[26]:\\u200a25\\u200a\\n\\nMachine learning (ML), reorganized as a separate field, started to flourish in the 1990s. The field changed its goal from achieving artificial intelligence to tackling solvable problems of a practical nature. It shifted focus away from the symbolic approaches it had inherited from AI, and toward methods and models borrowed from statistics, fuzzy logic, and probability theory.[27]\\n\\nThe difference between ML and AI is frequently misunderstood. ML learns and predicts based on passive observations, whereas AI implies an agent interacting with the environment to learn and take actions that maximize its chance of successfully achieving its goals.[28]\\n\\nAs of 2020, many sources continue to assert that ML remains a subfield of AI.[29][30][27] Others have the view that not all ML is part of AI, but only an \\'intelligent subset\\' of ML should be considered A'''"
      ],
      "metadata": {
        "id": "QmBQ-pJxd9iZ"
      },
      "execution_count": null,
      "outputs": []
    },
    {
      "cell_type": "markdown",
      "source": [
        "###write"
      ],
      "metadata": {
        "id": "8NnsyI1SdhMX"
      }
    },
    {
      "cell_type": "code",
      "source": [
        "with open('csv_file.txt' ,'w') as f:\n",
        "  text_data=f.write(text)\n"
      ],
      "metadata": {
        "id": "MRUbradcSmv3"
      },
      "execution_count": null,
      "outputs": []
    },
    {
      "cell_type": "markdown",
      "source": [
        "###read"
      ],
      "metadata": {
        "id": "LSMH7AixdfEU"
      }
    },
    {
      "cell_type": "code",
      "source": [
        "with open('csv_file.txt' ,'r') as f:\n",
        "  read_data=f.read()\n",
        "read_data"
      ],
      "metadata": {
        "id": "YyiT_6fbSmtf",
        "colab": {
          "base_uri": "https://localhost:8080/",
          "height": 122
        },
        "outputId": "be5cb8e6-2659-4251-f61f-8c653d661c37"
      },
      "execution_count": null,
      "outputs": [
        {
          "output_type": "execute_result",
          "data": {
            "text/plain": [
              "'Machine learning (ML) is a field of inquiry devoted to understanding and building methods that \\'learn\\', that is, methods that leverage data to improve performance on some set of tasks.\\n[1] It is seen as a part of artificial intelligence. Machine learning algorithms build a model based on sample data, known as training data, in order to make predictions or decisions without being explicitly programmed to do so.\\n[2] Machine learning algorithms are used in a wide variety of applications, such as in medicine, email filtering, speech recognition, agriculture, and computer vision, where it is difficult or unfeasible to develop conventional algorithms to perform the needed tasks.\\n[3][4] A subset of machine learning is closely related to computational statistics, which focuses on making predictions using computers, but not all machine learning is statistical learning.\\n The study of mathematical optimization delivers methods, theory and application domains to the field of machine learning. Data mining is a related field of study, focusing on exploratory data analysis through unsupervised learning.\\n [6][7] Some implementations of machine learning use data and neural networks in a way that mimics the working of a biological brain.\\n [8][9] In its application across business problems, machine learning is also referred to as predictive analytics.~ \\n Learning algorithms work on the basis that strategies, algorithms, and inferences that worked well in the past are likely to continue working well in the future. \\n These inferences can be obvious, such as \"since the sun rose every morning for the last 10,000 days, it will probably rise tomorrow morning as well\". They can be nuanced, such as \"X% of families have geographically separate species with color variants, so there is a Y% chance that undiscovered black swans exist\".[10]\\n\\nMachine learning programs can perform tasks without being explicitly programmed to do so. It involves computers learning from data provided so that they carry out certain tasks. \\nFor simple tasks assigned to computers, it is possible to program algorithms telling the machine how to execute all steps required to solve the problem at hand; on the computer\\'s part, no learning is needed. For more advanced tasks, it can be challenging for a human to manually create the needed algorithms.\\n In practice, it can turn out to be more effective to help the machine develop its own algorithm, rather than having human programmers specify every needed step.[11]\\n\\nThe discipline of machine learning employs various approaches to teach computers to accomplish tasks where no fully satisfactory algorithm is available. In cases where vast numbers of potential answers exist, one approach is to label some of the correct answers as valid. This can then be used as training data for the computer to improve the algorithm(s) it uses to determine correct answers. \\nFor example, to train a system for the task of digital character recognition, the MNIST dataset of handwritten digits has often been used.\\n[11] The term machine learning was coined in 1959 by Arthur Samuel, an IBM employee and pioneer in the field of computer gaming and artificial intelligence.[12][13] Also the synonym self-teaching computers were used in this time period.[14][15]\\n\\nBy the early 1960s an experimental \"learning machine\" with punched tape memory, called Cybertron, had been developed by Raytheon Company to analyze sonar signals, electrocardiograms, and speech patterns using rudimentary reinforcement learning. It was repetitively \"trained\" by a human operator/teacher to recognize patterns and equipped with a \"goof\" button to cause it to re-evaluate incorrect decisions.\\n[16] A representative book on research into machine learning during the 1960s was Nilsson\\'s book on Learning Machines, dealing mostly with machine learning for pattern classification.\\n[17] Interest related to pattern recognition continued into the 1970s, as described by Duda and Hart in 1973.[18] In 1981 a report was given on using teaching strategies so that a neural network learns to recognize 40 characters (26 letters, 10 digits, and 4 special symbols) from a computer terminal.[19]\\n\\nTom M. Mitchell provided a widely quoted, more formal definition of the algorithms studied in the machine learning field: \"A computer program is said to learn from experience E with respect to some class of tasks T and performance measure P if its performance at tasks in T, as measured by P, improves with experience E.\"\\n[20] This definition of the tasks in which machine learning is concerned offers a fundamentally operational definition rather than defining the field in cognitive terms.\\n This follows Alan Turing\\'s proposal in his paper \"Computing Machinery and Intelligence\", in which the question \"Can machines think?\" is replaced with the question \"Can machines do what we (as thinking entities) can do?\".[21]\\n\\nModern-day machine learning has two objectives, one is to classify data based on models which have been developed, the other purpose is to make predictions for future outcomes based on these models. \\nA hypothetical algorithm specific to classifying data may use computer vision of moles coupled with supervised learning in order to train it to classify the cancerous moles. A machine learning algorithm for stock trading may inform the trader of future potential predictions.[22]Artificial intelligence\\n\\nMachine learning as subfield of AI[23]\\n\\nPart of machine learning as subfield of AI or part of AI as subfield of machine learning[24]\\nAs a scientific endeavor, machine learning grew out of the quest for artificial intelligence. In the early days of AI as an academic discipline, some researchers were interested in having machines learn from data. \\nThey attempted to approach the problem with various symbolic methods, as well as what was then termed \"neural networks\"; these were mostly perceptrons and other models that were later found to be reinventions of the generalized linear models of statistics.\\n[25] Probabilistic reasoning was also employed, especially in automated medical diagnosis.\\n\\nHowever, an increasing emphasis on the logical, knowledge-based approach caused a rift between AI and machine learning. Probabilistic systems were plagued by theoretical and practical problems of data acquisition and representation.\\n[26]:\\u200a488\\u200a By 1980, expert systems had come to dominate AI, and statistics was out of favor.[27] Work on symbolic/knowledge-based learning did continue within AI, leading to inductive logic programming, but the more statistical line of research was now outside the field of AI proper, in pattern recognition and information retrieval.\\n[26]:\\u200a708–710,\\u200a755\\u200a Neural networks research had been abandoned by AI and computer science around the same time.\\n This line, too, was continued outside the AI/CS field, as \"connectionism\", by researchers from other disciplines including Hopfield, Rumelhart, and Hinton. Their main success came in the mid-1980s with the reinvention of backpropagation.[26]:\\u200a25\\u200a\\n\\nMachine learning (ML), reorganized as a separate field, started to flourish in the 1990s. The field changed its goal from achieving artificial intelligence to tackling solvable problems of a practical nature. It shifted focus away from the symbolic approaches it had inherited from AI, and toward methods and models borrowed from statistics, fuzzy logic, and probability theory.[27]\\n\\nThe difference between ML and AI is frequently misunderstood. ML learns and predicts based on passive observations, whereas AI implies an agent interacting with the environment to learn and take actions that maximize its chance of successfully achieving its goals.[28]\\n\\nAs of 2020, many sources continue to assert that ML remains a subfield of AI.[29][30][27] Others have the view that not all ML is part of AI, but only an \\'intelligent subset\\' of ML should be considered A'"
            ],
            "application/vnd.google.colaboratory.intrinsic+json": {
              "type": "string"
            }
          },
          "metadata": {},
          "execution_count": 5
        }
      ]
    },
    {
      "cell_type": "markdown",
      "source": [
        "## read and write in csv file "
      ],
      "metadata": {
        "id": "i2HZw-C6SmMN"
      }
    },
    {
      "cell_type": "markdown",
      "source": [
        "###write"
      ],
      "metadata": {
        "id": "-EXfpRBDb2P2"
      }
    },
    {
      "cell_type": "code",
      "source": [
        "with open('csv_file.csv' ,'w') as f:\n",
        "\n",
        "  text_data=f.write(text)\n"
      ],
      "metadata": {
        "id": "qb2FC2k7b10u"
      },
      "execution_count": null,
      "outputs": []
    },
    {
      "cell_type": "markdown",
      "source": [
        "###read"
      ],
      "metadata": {
        "id": "vyRM8BIdb5jd"
      }
    },
    {
      "cell_type": "code",
      "execution_count": null,
      "metadata": {
        "id": "B6rM6dP8UZKM"
      },
      "outputs": [],
      "source": [
        "with open('csv_file.csv' ,'r') as f:\n",
        "  read_data=f.read()"
      ]
    },
    {
      "cell_type": "code",
      "execution_count": null,
      "metadata": {
        "id": "2itRTEHNUw7i",
        "colab": {
          "base_uri": "https://localhost:8080/",
          "height": 122
        },
        "outputId": "92526abe-52e6-4e1c-d883-c48eea70b230"
      },
      "outputs": [
        {
          "output_type": "execute_result",
          "data": {
            "text/plain": [
              "'Machine learning (ML) is a field of inquiry devoted to understanding and building methods that \\'learn\\', that is, methods that leverage data to improve performance on some set of tasks.\\n[1] It is seen as a part of artificial intelligence. Machine learning algorithms build a model based on sample data, known as training data, in order to make predictions or decisions without being explicitly programmed to do so.\\n[2] Machine learning algorithms are used in a wide variety of applications, such as in medicine, email filtering, speech recognition, agriculture, and computer vision, where it is difficult or unfeasible to develop conventional algorithms to perform the needed tasks.\\n[3][4] A subset of machine learning is closely related to computational statistics, which focuses on making predictions using computers, but not all machine learning is statistical learning.\\n The study of mathematical optimization delivers methods, theory and application domains to the field of machine learning. Data mining is a related field of study, focusing on exploratory data analysis through unsupervised learning.\\n [6][7] Some implementations of machine learning use data and neural networks in a way that mimics the working of a biological brain.\\n [8][9] In its application across business problems, machine learning is also referred to as predictive analytics.~ \\n Learning algorithms work on the basis that strategies, algorithms, and inferences that worked well in the past are likely to continue working well in the future. \\n These inferences can be obvious, such as \"since the sun rose every morning for the last 10,000 days, it will probably rise tomorrow morning as well\". They can be nuanced, such as \"X% of families have geographically separate species with color variants, so there is a Y% chance that undiscovered black swans exist\".[10]\\n\\nMachine learning programs can perform tasks without being explicitly programmed to do so. It involves computers learning from data provided so that they carry out certain tasks. \\nFor simple tasks assigned to computers, it is possible to program algorithms telling the machine how to execute all steps required to solve the problem at hand; on the computer\\'s part, no learning is needed. For more advanced tasks, it can be challenging for a human to manually create the needed algorithms.\\n In practice, it can turn out to be more effective to help the machine develop its own algorithm, rather than having human programmers specify every needed step.[11]\\n\\nThe discipline of machine learning employs various approaches to teach computers to accomplish tasks where no fully satisfactory algorithm is available. In cases where vast numbers of potential answers exist, one approach is to label some of the correct answers as valid. This can then be used as training data for the computer to improve the algorithm(s) it uses to determine correct answers. \\nFor example, to train a system for the task of digital character recognition, the MNIST dataset of handwritten digits has often been used.\\n[11] The term machine learning was coined in 1959 by Arthur Samuel, an IBM employee and pioneer in the field of computer gaming and artificial intelligence.[12][13] Also the synonym self-teaching computers were used in this time period.[14][15]\\n\\nBy the early 1960s an experimental \"learning machine\" with punched tape memory, called Cybertron, had been developed by Raytheon Company to analyze sonar signals, electrocardiograms, and speech patterns using rudimentary reinforcement learning. It was repetitively \"trained\" by a human operator/teacher to recognize patterns and equipped with a \"goof\" button to cause it to re-evaluate incorrect decisions.\\n[16] A representative book on research into machine learning during the 1960s was Nilsson\\'s book on Learning Machines, dealing mostly with machine learning for pattern classification.\\n[17] Interest related to pattern recognition continued into the 1970s, as described by Duda and Hart in 1973.[18] In 1981 a report was given on using teaching strategies so that a neural network learns to recognize 40 characters (26 letters, 10 digits, and 4 special symbols) from a computer terminal.[19]\\n\\nTom M. Mitchell provided a widely quoted, more formal definition of the algorithms studied in the machine learning field: \"A computer program is said to learn from experience E with respect to some class of tasks T and performance measure P if its performance at tasks in T, as measured by P, improves with experience E.\"\\n[20] This definition of the tasks in which machine learning is concerned offers a fundamentally operational definition rather than defining the field in cognitive terms.\\n This follows Alan Turing\\'s proposal in his paper \"Computing Machinery and Intelligence\", in which the question \"Can machines think?\" is replaced with the question \"Can machines do what we (as thinking entities) can do?\".[21]\\n\\nModern-day machine learning has two objectives, one is to classify data based on models which have been developed, the other purpose is to make predictions for future outcomes based on these models. \\nA hypothetical algorithm specific to classifying data may use computer vision of moles coupled with supervised learning in order to train it to classify the cancerous moles. A machine learning algorithm for stock trading may inform the trader of future potential predictions.[22]Artificial intelligence\\n\\nMachine learning as subfield of AI[23]\\n\\nPart of machine learning as subfield of AI or part of AI as subfield of machine learning[24]\\nAs a scientific endeavor, machine learning grew out of the quest for artificial intelligence. In the early days of AI as an academic discipline, some researchers were interested in having machines learn from data. \\nThey attempted to approach the problem with various symbolic methods, as well as what was then termed \"neural networks\"; these were mostly perceptrons and other models that were later found to be reinventions of the generalized linear models of statistics.\\n[25] Probabilistic reasoning was also employed, especially in automated medical diagnosis.\\n\\nHowever, an increasing emphasis on the logical, knowledge-based approach caused a rift between AI and machine learning. Probabilistic systems were plagued by theoretical and practical problems of data acquisition and representation.\\n[26]:\\u200a488\\u200a By 1980, expert systems had come to dominate AI, and statistics was out of favor.[27] Work on symbolic/knowledge-based learning did continue within AI, leading to inductive logic programming, but the more statistical line of research was now outside the field of AI proper, in pattern recognition and information retrieval.\\n[26]:\\u200a708–710,\\u200a755\\u200a Neural networks research had been abandoned by AI and computer science around the same time.\\n This line, too, was continued outside the AI/CS field, as \"connectionism\", by researchers from other disciplines including Hopfield, Rumelhart, and Hinton. Their main success came in the mid-1980s with the reinvention of backpropagation.[26]:\\u200a25\\u200a\\n\\nMachine learning (ML), reorganized as a separate field, started to flourish in the 1990s. The field changed its goal from achieving artificial intelligence to tackling solvable problems of a practical nature. It shifted focus away from the symbolic approaches it had inherited from AI, and toward methods and models borrowed from statistics, fuzzy logic, and probability theory.[27]\\n\\nThe difference between ML and AI is frequently misunderstood. ML learns and predicts based on passive observations, whereas AI implies an agent interacting with the environment to learn and take actions that maximize its chance of successfully achieving its goals.[28]\\n\\nAs of 2020, many sources continue to assert that ML remains a subfield of AI.[29][30][27] Others have the view that not all ML is part of AI, but only an \\'intelligent subset\\' of ML should be considered A'"
            ],
            "application/vnd.google.colaboratory.intrinsic+json": {
              "type": "string"
            }
          },
          "metadata": {},
          "execution_count": 8
        }
      ],
      "source": [
        "read_data"
      ]
    },
    {
      "cell_type": "markdown",
      "source": [
        "## read in pdf file"
      ],
      "metadata": {
        "id": "bYTRLY8JSvRM"
      }
    },
    {
      "cell_type": "markdown",
      "source": [
        "###read"
      ],
      "metadata": {
        "id": "c6iodA-dWd95"
      }
    },
    {
      "cell_type": "code",
      "source": [
        "pip install PyPDF2"
      ],
      "metadata": {
        "id": "LJmadgbiS9XV",
        "colab": {
          "base_uri": "https://localhost:8080/"
        },
        "outputId": "2043b072-c11c-444e-c879-1feb7760d917"
      },
      "execution_count": null,
      "outputs": [
        {
          "output_type": "stream",
          "name": "stdout",
          "text": [
            "Looking in indexes: https://pypi.org/simple, https://us-python.pkg.dev/colab-wheels/public/simple/\n",
            "Requirement already satisfied: PyPDF2 in /usr/local/lib/python3.8/dist-packages (2.11.2)\n",
            "Requirement already satisfied: typing_extensions>=3.10.0.0 in /usr/local/lib/python3.8/dist-packages (from PyPDF2) (4.1.1)\n"
          ]
        }
      ]
    },
    {
      "cell_type": "code",
      "execution_count": null,
      "metadata": {
        "id": "2NrWJ2JBVKTb"
      },
      "outputs": [],
      "source": [
        "import PyPDF2 \n",
        "pdf_file = open('Machine-Learning-with-Scikit-2E2019.pdf' ,'rb')\n",
        "\n",
        "pdf_reader = PyPDF2.PdfFileReader(pdf_file)"
      ]
    },
    {
      "cell_type": "code",
      "source": [
        "pdf_reader.numPages"
      ],
      "metadata": {
        "id": "qXDjsSCyTqOi",
        "colab": {
          "base_uri": "https://localhost:8080/"
        },
        "outputId": "ad94bcec-bf19-4615-9a02-cdb68bdef804"
      },
      "execution_count": null,
      "outputs": [
        {
          "output_type": "execute_result",
          "data": {
            "text/plain": [
              "510"
            ]
          },
          "metadata": {},
          "execution_count": 11
        }
      ]
    },
    {
      "cell_type": "code",
      "source": [
        "page_one=pdf_reader.getPage(100)\n",
        "page_one.extractText()"
      ],
      "metadata": {
        "id": "zkO38WkwTqRM",
        "colab": {
          "base_uri": "https://localhost:8080/",
          "height": 122
        },
        "outputId": "02dc8377-2c72-4ba9-9de9-75bfc12cb0e1"
      },
      "execution_count": null,
      "outputs": [
        {
          "output_type": "execute_result",
          "data": {
            "text/plain": [
              "'Instead of a transformer, you can specify the string \"drop\"  if you\\nwant the columns to be dropped. Or you can specify \"pass\\nthrough\"  if you want the columns to be left untouched. By default,\\nthe remaining columns (i.e., the ones that were not listed) will be\\ndropped, but you can set the remainder  hyperparameter to any\\ntransformer (or to \"passthrough\" ) if you want these columns to be\\nhandled differently.\\nIf you are using Scikit-Learn 0.19 or earlier, you can use a third-party library such as\\nsklearn-pandas , or roll out your own custom transformer to get the same function‐\\nality as the ColumnTransformer . Alternatively, you can use the FeatureUnion  class\\nwhich can also apply different transformers and concatenate their outputs, but you\\ncannot specify different columns for each transformer, they all apply to the whole\\ndata. It is possible to work around this limitation using a custom transformer for col‐\\numn selection (see the Jupyter notebook for an example).\\nSelect and Train a Model\\nAt last! Y ou framed the problem, you got the data and explored it, you sampled a\\ntraining set and a test set, and you wrote transformation pipelines to clean up and\\nprepare your data for Machine Learning algorithms automatically. Y ou are now ready\\nto select and train a Machine Learning model.\\nTraining and Evaluating on the Training Set\\nThe good news is that thanks to all these previous steps, things are now going to be\\nmuch simpler than you might think. Let’s first train a Linear Regression model, like\\nwe did in the previous chapter:\\nfrom sklearn.linear_model  import LinearRegression\\nlin_reg = LinearRegression ()\\nlin_reg.fit(housing_prepared , housing_labels )\\nDone! Y ou now have a working Linear Regression model. Let’s try it out on a few\\ninstances from the training set:\\n>>> some_data  = housing.iloc[:5]\\n>>> some_labels  = housing_labels .iloc[:5]\\n>>> some_data_prepared  = full_pipeline .transform (some_data )\\n>>> print(\"Predictions:\" , lin_reg.predict(some_data_prepared ))\\nPredictions: [ 210644.6045  317768.8069  210956.4333  59218.9888  189747.5584]\\n>>> print(\"Labels:\" , list(some_labels ))\\nLabels: [286600.0, 340600.0, 196900.0, 46300.0, 254500.0]\\nSelect and Train a Model | 75'"
            ],
            "application/vnd.google.colaboratory.intrinsic+json": {
              "type": "string"
            }
          },
          "metadata": {},
          "execution_count": 12
        }
      ]
    },
    {
      "cell_type": "code",
      "source": [
        "text_data=[]\n",
        "for i in range(100,150):\n",
        "  pages = pdf_reader.getPage(i).extractText()\n",
        "  text_data.append(pages)"
      ],
      "metadata": {
        "id": "xkrnVR4WUvEP"
      },
      "execution_count": null,
      "outputs": []
    },
    {
      "cell_type": "code",
      "source": [
        "text_data"
      ],
      "metadata": {
        "id": "sl_w6T8OUBiF"
      },
      "execution_count": null,
      "outputs": []
    },
    {
      "cell_type": "code",
      "source": [],
      "metadata": {
        "id": "XeDIG611gkPE"
      },
      "execution_count": null,
      "outputs": []
    },
    {
      "cell_type": "markdown",
      "source": [
        "#Scrapping"
      ],
      "metadata": {
        "id": "ApWc3wKYgtmk"
      }
    },
    {
      "cell_type": "markdown",
      "source": [
        "## using trafilatura"
      ],
      "metadata": {
        "id": "-tTnEx1qcL0F"
      }
    },
    {
      "cell_type": "code",
      "source": [
        "!pip install trafilatura"
      ],
      "metadata": {
        "id": "qxbLvNFD-0ys"
      },
      "execution_count": null,
      "outputs": []
    },
    {
      "cell_type": "code",
      "source": [
        "import trafilatura\n",
        "\n",
        "topic_link =\"https://en.wikipedia.org/wiki/Machine_learning\"\n",
        "    \n",
        "   \n",
        "html = trafilatura.fetch_url(topic_link)\n",
        "text = trafilatura.extract(html)\n",
        "text_clean = text.replace(\"\\n\", \" \").replace(\"\\'\", \"\")\n",
        "text_data = text_clean[0:5000]"
      ],
      "metadata": {
        "id": "bKnAsUkcgxGa"
      },
      "execution_count": null,
      "outputs": []
    },
    {
      "cell_type": "code",
      "source": [
        "text_data"
      ],
      "metadata": {
        "id": "9U_NGcoz_HCs",
        "colab": {
          "base_uri": "https://localhost:8080/",
          "height": 539
        },
        "outputId": "5ddaeaec-d48f-4be7-ef01-2c380d08cea9"
      },
      "execution_count": null,
      "outputs": [
        {
          "output_type": "execute_result",
          "data": {
            "text/plain": [
              "'Machine learning |Part of a series on| |Machine learning| and data mining |Part of a series on| |Artificial intelligence| Machine learning (ML) is a field of inquiry devoted to understanding and building methods that learn, that is, methods that leverage data to improve performance on some set of tasks.[1] It is seen as a part of artificial intelligence. Machine learning algorithms build a model based on sample data, known as training data, in order to make predictions or decisions without being explicitly programmed to do so.[2] Machine learning algorithms are used in a wide variety of applications, such as in medicine, email filtering, speech recognition, agriculture, and computer vision, where it is difficult or unfeasible to develop conventional algorithms to perform the needed tasks.[3][4] A subset of machine learning is closely related to computational statistics, which focuses on making predictions using computers, but not all machine learning is statistical learning. The study of mathematical optimization delivers methods, theory and application domains to the field of machine learning. Data mining is a related field of study, focusing on exploratory data analysis through unsupervised learning.[6][7] Some implementations of machine learning use data and neural networks in a way that mimics the working of a biological brain.[8][9] In its application across business problems, machine learning is also referred to as predictive analytics. Overview[edit] Learning algorithms work on the basis that strategies, algorithms, and inferences that worked well in the past are likely to continue working well in the future. These inferences can be obvious, such as \"since the sun rose every morning for the last 10,000 days, it will probably rise tomorrow morning as well\". They can be nuanced, such as \"X% of families have geographically separate species with color variants, so there is a Y% chance that undiscovered black swans exist\".[10] Machine learning programs can perform tasks without being explicitly programmed to do so. It involves computers learning from data provided so that they carry out certain tasks. For simple tasks assigned to computers, it is possible to program algorithms telling the machine how to execute all steps required to solve the problem at hand; on the computers part, no learning is needed. For more advanced tasks, it can be challenging for a human to manually create the needed algorithms. In practice, it can turn out to be more effective to help the machine develop its own algorithm, rather than having human programmers specify every needed step.[11] The discipline of machine learning employs various approaches to teach computers to accomplish tasks where no fully satisfactory algorithm is available. In cases where vast numbers of potential answers exist, one approach is to label some of the correct answers as valid. This can then be used as training data for the computer to improve the algorithm(s) it uses to determine correct answers. For example, to train a system for the task of digital character recognition, the MNIST dataset of handwritten digits has often been used.[11] History and relationships to other fields[edit] The term machine learning was coined in 1959 by Arthur Samuel, an IBM employee and pioneer in the field of computer gaming and artificial intelligence.[12][13] Also the synonym self-teaching computers were used in this time period.[14][15] By the early 1960s an experimental \"learning machine\" with punched tape memory, called Cybertron, had been developed by Raytheon Company to analyze sonar signals, electrocardiograms, and speech patterns using rudimentary reinforcement learning. It was repetitively \"trained\" by a human operator/teacher to recognize patterns and equipped with a \"goof\" button to cause it to re-evaluate incorrect decisions.[16] A representative book on research into machine learning during the 1960s was Nilssons book on Learning Machines, dealing mostly with machine learning for pattern classification.[17] Interest related to pattern recognition continued into the 1970s, as described by Duda and Hart in 1973.[18] In 1981 a report was given on using teaching strategies so that a neural network learns to recognize 40 characters (26 letters, 10 digits, and 4 special symbols) from a computer terminal.[19] Tom M. Mitchell provided a widely quoted, more formal definition of the algorithms studied in the machine learning field: \"A computer program is said to learn from experience E with respect to some class of tasks T and performance measure P if its performance at tasks in T, as measured by P, improves with experience E.\"[20] This definition of the tasks in which machine learning is concerned offers a fundamentally operational definition rather than defining the field in cognitive terms. This follows Alan Turings proposal in his paper \"Computing Machinery and Intelligence\", in which the question \"Can machines think?\" is replaced with the question \"Can machines '"
            ],
            "application/vnd.google.colaboratory.intrinsic+json": {
              "type": "string"
            }
          },
          "metadata": {},
          "execution_count": 21
        }
      ]
    },
    {
      "cell_type": "code",
      "source": [],
      "metadata": {
        "id": "T29XwEv0UGC_"
      },
      "execution_count": null,
      "outputs": []
    },
    {
      "cell_type": "markdown",
      "source": [
        "##using BeautifulSoup"
      ],
      "metadata": {
        "id": "hFjvmmPfcEsD"
      }
    },
    {
      "cell_type": "code",
      "source": [
        "import requests\n",
        "\n",
        "from bs4 import BeautifulSoup\n",
        "\n",
        "\n",
        "# 2nd step use requests to fetch the url\n",
        "result = requests.get(\"https://en.wikipedia.org/wiki/Machine_learning\")\n",
        "src = result.content\n",
        "\n",
        "# 4th step create soup object to parse content\n",
        "soup = BeautifulSoup(src, \"html\")\n",
        "#print(soup)\n",
        "text = soup.findAll(\"p\")"
      ],
      "metadata": {
        "id": "rzRxA8sBUGPc"
      },
      "execution_count": null,
      "outputs": []
    },
    {
      "cell_type": "code",
      "source": [
        "text[0].text"
      ],
      "metadata": {
        "colab": {
          "base_uri": "https://localhost:8080/",
          "height": 122
        },
        "id": "yUfNYT9FIrNN",
        "outputId": "e3a0e5b7-7dcf-422d-c1bd-7a825711a3c0"
      },
      "execution_count": null,
      "outputs": [
        {
          "output_type": "execute_result",
          "data": {
            "text/plain": [
              "\"Machine learning (ML) is a field of inquiry devoted to understanding and building methods that 'learn', that is, methods that leverage data to improve performance on some set of tasks.[1] It is seen as a part of artificial intelligence. Machine learning algorithms build a model based on sample data, known as training data, in order to make predictions or decisions without being explicitly programmed to do so.[2] Machine learning algorithms are used in a wide variety of applications, such as in medicine, email filtering, speech recognition, agriculture, and computer vision, where it is difficult or unfeasible to develop conventional algorithms to perform the needed tasks.[3][4] \\nA subset of machine learning is closely related to computational statistics, which focuses on making predictions using computers, but not all machine learning is statistical learning. The study of mathematical optimization delivers methods, theory and application domains to the field of machine learning. Data mining is a related field of study, focusing on exploratory data analysis through unsupervised learning.[6][7] Some implementations of machine learning use data and neural networks in a way that mimics the working of a biological brain.[8][9]  In its application across business problems, machine learning is also referred to as predictive analytics.\\n\""
            ],
            "application/vnd.google.colaboratory.intrinsic+json": {
              "type": "string"
            }
          },
          "metadata": {},
          "execution_count": 29
        }
      ]
    },
    {
      "cell_type": "code",
      "source": [
        "text_data=\"\"\n",
        "for i in range(len(text)):\n",
        "  text_data +=\" \"+text[i].text "
      ],
      "metadata": {
        "id": "MBqe3CkCblq8"
      },
      "execution_count": null,
      "outputs": []
    },
    {
      "cell_type": "code",
      "source": [
        "text_data"
      ],
      "metadata": {
        "id": "YMZJGfoZBc8g"
      },
      "execution_count": null,
      "outputs": []
    },
    {
      "cell_type": "markdown",
      "source": [
        "#Transcribe Video"
      ],
      "metadata": {
        "id": "wcOCkngWDUui"
      }
    },
    {
      "cell_type": "markdown",
      "source": [
        "##download video"
      ],
      "metadata": {
        "id": "h-ZdjZZMM6qL"
      }
    },
    {
      "cell_type": "code",
      "source": [
        "!pip install pytube"
      ],
      "metadata": {
        "id": "TjyHX4X7IDgY"
      },
      "execution_count": null,
      "outputs": []
    },
    {
      "cell_type": "code",
      "source": [
        "from pytube import YouTube\n",
        "import os\n",
        "\n",
        "def downloadYouTube(videourl, path):\n",
        "\n",
        "    yt = YouTube(videourl)\n",
        "    yt = yt.streams.filter(progressive=True, file_extension='mp4').order_by('resolution').desc().first()\n",
        "    if not os.path.exists(path):\n",
        "        os.makedirs(path)\n",
        "    yt.download(path)"
      ],
      "metadata": {
        "id": "OzFmal_2IdRF"
      },
      "execution_count": null,
      "outputs": []
    },
    {
      "cell_type": "code",
      "source": [
        "downloadYouTube('https://www.youtube.com/watch?v=HcqpanDadyQ', './content')"
      ],
      "metadata": {
        "id": "XvBwwhiXIkPB"
      },
      "execution_count": null,
      "outputs": []
    },
    {
      "cell_type": "markdown",
      "source": [
        "##conver video to audio"
      ],
      "metadata": {
        "id": "DGmiyXD5M1sC"
      }
    },
    {
      "cell_type": "code",
      "source": [
        "!pip install moviepy\n",
        "!pip install imageio==2.4.1\n",
        "#!pip install moviepy --upgrade"
      ],
      "metadata": {
        "id": "QXb_kblOMn8j"
      },
      "execution_count": null,
      "outputs": []
    },
    {
      "cell_type": "code",
      "source": [
        "# Python code to convert video to audio\n",
        "import moviepy.editor as mp\n",
        "\n",
        "# Insert Local Video File Path\n",
        "my_clip = mp.VideoFileClip(r\"/content/content/What is Machine Learning.mp4\")\n",
        "\n",
        "# Insert Local Audio File Path\n",
        "my_clip.audio.write_audiofile(r\"/content/Machine Learning.wav\")\n",
        "\n"
      ],
      "metadata": {
        "id": "bj1SIUP6IpOG",
        "colab": {
          "base_uri": "https://localhost:8080/"
        },
        "outputId": "ea69b661-51df-4a02-d162-82a36505228d"
      },
      "execution_count": null,
      "outputs": [
        {
          "output_type": "stream",
          "name": "stdout",
          "text": [
            "[MoviePy] Writing audio in /content/Machine Learning.wav\n"
          ]
        },
        {
          "output_type": "stream",
          "name": "stderr",
          "text": [
            "100%|██████████| 7105/7105 [00:03<00:00, 2202.56it/s]"
          ]
        },
        {
          "output_type": "stream",
          "name": "stdout",
          "text": [
            "[MoviePy] Done.\n"
          ]
        },
        {
          "output_type": "stream",
          "name": "stderr",
          "text": [
            "\n"
          ]
        }
      ]
    },
    {
      "cell_type": "code",
      "source": [],
      "metadata": {
        "id": "wpLMG2zr4NWD"
      },
      "execution_count": null,
      "outputs": []
    },
    {
      "cell_type": "markdown",
      "source": [
        "##convert audio to text\n"
      ],
      "metadata": {
        "id": "WZlgx4B8W9Dp"
      }
    },
    {
      "cell_type": "code",
      "source": [
        "!pip install pydub\n",
        "!pip install SpeechRecognition"
      ],
      "metadata": {
        "id": "BWWQbDyXONIp"
      },
      "execution_count": null,
      "outputs": []
    },
    {
      "cell_type": "code",
      "source": [
        "import speech_recognition as sr\n",
        "\n",
        "r = sr.Recognizer()\n",
        "\n",
        "audio_file = sr.AudioFile('/content/Machine Learning.wav')\n",
        "with audio_file as source :\n",
        "  audio = r.record(source)\n",
        "\n",
        "text = r.recognize_google(audio, language='en')\n",
        "print(text)"
      ],
      "metadata": {
        "id": "aVRNwVdHp8pk",
        "colab": {
          "base_uri": "https://localhost:8080/",
          "height": 432
        },
        "outputId": "35220af9-045d-49ed-f999-dc3f84a3fcad"
      },
      "execution_count": null,
      "outputs": [
        {
          "output_type": "error",
          "ename": "RequestError",
          "evalue": "ignored",
          "traceback": [
            "\u001b[0;31m---------------------------------------------------------------------------\u001b[0m",
            "\u001b[0;31mHTTPError\u001b[0m                                 Traceback (most recent call last)",
            "\u001b[0;32m/usr/local/lib/python3.8/dist-packages/speech_recognition/__init__.py\u001b[0m in \u001b[0;36mrecognize_google\u001b[0;34m(self, audio_data, key, language, pfilter, show_all, with_confidence)\u001b[0m\n\u001b[1;32m    893\u001b[0m         \u001b[0;32mtry\u001b[0m\u001b[0;34m:\u001b[0m\u001b[0;34m\u001b[0m\u001b[0;34m\u001b[0m\u001b[0m\n\u001b[0;32m--> 894\u001b[0;31m             \u001b[0mresponse\u001b[0m \u001b[0;34m=\u001b[0m \u001b[0murlopen\u001b[0m\u001b[0;34m(\u001b[0m\u001b[0mrequest\u001b[0m\u001b[0;34m,\u001b[0m \u001b[0mtimeout\u001b[0m\u001b[0;34m=\u001b[0m\u001b[0mself\u001b[0m\u001b[0;34m.\u001b[0m\u001b[0moperation_timeout\u001b[0m\u001b[0;34m)\u001b[0m\u001b[0;34m\u001b[0m\u001b[0;34m\u001b[0m\u001b[0m\n\u001b[0m\u001b[1;32m    895\u001b[0m         \u001b[0;32mexcept\u001b[0m \u001b[0mHTTPError\u001b[0m \u001b[0;32mas\u001b[0m \u001b[0me\u001b[0m\u001b[0;34m:\u001b[0m\u001b[0;34m\u001b[0m\u001b[0;34m\u001b[0m\u001b[0m\n",
            "\u001b[0;32m/usr/lib/python3.8/urllib/request.py\u001b[0m in \u001b[0;36murlopen\u001b[0;34m(url, data, timeout, cafile, capath, cadefault, context)\u001b[0m\n\u001b[1;32m    221\u001b[0m         \u001b[0mopener\u001b[0m \u001b[0;34m=\u001b[0m \u001b[0m_opener\u001b[0m\u001b[0;34m\u001b[0m\u001b[0;34m\u001b[0m\u001b[0m\n\u001b[0;32m--> 222\u001b[0;31m     \u001b[0;32mreturn\u001b[0m \u001b[0mopener\u001b[0m\u001b[0;34m.\u001b[0m\u001b[0mopen\u001b[0m\u001b[0;34m(\u001b[0m\u001b[0murl\u001b[0m\u001b[0;34m,\u001b[0m \u001b[0mdata\u001b[0m\u001b[0;34m,\u001b[0m \u001b[0mtimeout\u001b[0m\u001b[0;34m)\u001b[0m\u001b[0;34m\u001b[0m\u001b[0;34m\u001b[0m\u001b[0m\n\u001b[0m\u001b[1;32m    223\u001b[0m \u001b[0;34m\u001b[0m\u001b[0m\n",
            "\u001b[0;32m/usr/lib/python3.8/urllib/request.py\u001b[0m in \u001b[0;36mopen\u001b[0;34m(self, fullurl, data, timeout)\u001b[0m\n\u001b[1;32m    530\u001b[0m             \u001b[0mmeth\u001b[0m \u001b[0;34m=\u001b[0m \u001b[0mgetattr\u001b[0m\u001b[0;34m(\u001b[0m\u001b[0mprocessor\u001b[0m\u001b[0;34m,\u001b[0m \u001b[0mmeth_name\u001b[0m\u001b[0;34m)\u001b[0m\u001b[0;34m\u001b[0m\u001b[0;34m\u001b[0m\u001b[0m\n\u001b[0;32m--> 531\u001b[0;31m             \u001b[0mresponse\u001b[0m \u001b[0;34m=\u001b[0m \u001b[0mmeth\u001b[0m\u001b[0;34m(\u001b[0m\u001b[0mreq\u001b[0m\u001b[0;34m,\u001b[0m \u001b[0mresponse\u001b[0m\u001b[0;34m)\u001b[0m\u001b[0;34m\u001b[0m\u001b[0;34m\u001b[0m\u001b[0m\n\u001b[0m\u001b[1;32m    532\u001b[0m \u001b[0;34m\u001b[0m\u001b[0m\n",
            "\u001b[0;32m/usr/lib/python3.8/urllib/request.py\u001b[0m in \u001b[0;36mhttp_response\u001b[0;34m(self, request, response)\u001b[0m\n\u001b[1;32m    639\u001b[0m         \u001b[0;32mif\u001b[0m \u001b[0;32mnot\u001b[0m \u001b[0;34m(\u001b[0m\u001b[0;36m200\u001b[0m \u001b[0;34m<=\u001b[0m \u001b[0mcode\u001b[0m \u001b[0;34m<\u001b[0m \u001b[0;36m300\u001b[0m\u001b[0;34m)\u001b[0m\u001b[0;34m:\u001b[0m\u001b[0;34m\u001b[0m\u001b[0;34m\u001b[0m\u001b[0m\n\u001b[0;32m--> 640\u001b[0;31m             response = self.parent.error(\n\u001b[0m\u001b[1;32m    641\u001b[0m                 'http', request, response, code, msg, hdrs)\n",
            "\u001b[0;32m/usr/lib/python3.8/urllib/request.py\u001b[0m in \u001b[0;36merror\u001b[0;34m(self, proto, *args)\u001b[0m\n\u001b[1;32m    568\u001b[0m             \u001b[0margs\u001b[0m \u001b[0;34m=\u001b[0m \u001b[0;34m(\u001b[0m\u001b[0mdict\u001b[0m\u001b[0;34m,\u001b[0m \u001b[0;34m'default'\u001b[0m\u001b[0;34m,\u001b[0m \u001b[0;34m'http_error_default'\u001b[0m\u001b[0;34m)\u001b[0m \u001b[0;34m+\u001b[0m \u001b[0morig_args\u001b[0m\u001b[0;34m\u001b[0m\u001b[0;34m\u001b[0m\u001b[0m\n\u001b[0;32m--> 569\u001b[0;31m             \u001b[0;32mreturn\u001b[0m \u001b[0mself\u001b[0m\u001b[0;34m.\u001b[0m\u001b[0m_call_chain\u001b[0m\u001b[0;34m(\u001b[0m\u001b[0;34m*\u001b[0m\u001b[0margs\u001b[0m\u001b[0;34m)\u001b[0m\u001b[0;34m\u001b[0m\u001b[0;34m\u001b[0m\u001b[0m\n\u001b[0m\u001b[1;32m    570\u001b[0m \u001b[0;34m\u001b[0m\u001b[0m\n",
            "\u001b[0;32m/usr/lib/python3.8/urllib/request.py\u001b[0m in \u001b[0;36m_call_chain\u001b[0;34m(self, chain, kind, meth_name, *args)\u001b[0m\n\u001b[1;32m    501\u001b[0m             \u001b[0mfunc\u001b[0m \u001b[0;34m=\u001b[0m \u001b[0mgetattr\u001b[0m\u001b[0;34m(\u001b[0m\u001b[0mhandler\u001b[0m\u001b[0;34m,\u001b[0m \u001b[0mmeth_name\u001b[0m\u001b[0;34m)\u001b[0m\u001b[0;34m\u001b[0m\u001b[0;34m\u001b[0m\u001b[0m\n\u001b[0;32m--> 502\u001b[0;31m             \u001b[0mresult\u001b[0m \u001b[0;34m=\u001b[0m \u001b[0mfunc\u001b[0m\u001b[0;34m(\u001b[0m\u001b[0;34m*\u001b[0m\u001b[0margs\u001b[0m\u001b[0;34m)\u001b[0m\u001b[0;34m\u001b[0m\u001b[0;34m\u001b[0m\u001b[0m\n\u001b[0m\u001b[1;32m    503\u001b[0m             \u001b[0;32mif\u001b[0m \u001b[0mresult\u001b[0m \u001b[0;32mis\u001b[0m \u001b[0;32mnot\u001b[0m \u001b[0;32mNone\u001b[0m\u001b[0;34m:\u001b[0m\u001b[0;34m\u001b[0m\u001b[0;34m\u001b[0m\u001b[0m\n",
            "\u001b[0;32m/usr/lib/python3.8/urllib/request.py\u001b[0m in \u001b[0;36mhttp_error_default\u001b[0;34m(self, req, fp, code, msg, hdrs)\u001b[0m\n\u001b[1;32m    648\u001b[0m     \u001b[0;32mdef\u001b[0m \u001b[0mhttp_error_default\u001b[0m\u001b[0;34m(\u001b[0m\u001b[0mself\u001b[0m\u001b[0;34m,\u001b[0m \u001b[0mreq\u001b[0m\u001b[0;34m,\u001b[0m \u001b[0mfp\u001b[0m\u001b[0;34m,\u001b[0m \u001b[0mcode\u001b[0m\u001b[0;34m,\u001b[0m \u001b[0mmsg\u001b[0m\u001b[0;34m,\u001b[0m \u001b[0mhdrs\u001b[0m\u001b[0;34m)\u001b[0m\u001b[0;34m:\u001b[0m\u001b[0;34m\u001b[0m\u001b[0;34m\u001b[0m\u001b[0m\n\u001b[0;32m--> 649\u001b[0;31m         \u001b[0;32mraise\u001b[0m \u001b[0mHTTPError\u001b[0m\u001b[0;34m(\u001b[0m\u001b[0mreq\u001b[0m\u001b[0;34m.\u001b[0m\u001b[0mfull_url\u001b[0m\u001b[0;34m,\u001b[0m \u001b[0mcode\u001b[0m\u001b[0;34m,\u001b[0m \u001b[0mmsg\u001b[0m\u001b[0;34m,\u001b[0m \u001b[0mhdrs\u001b[0m\u001b[0;34m,\u001b[0m \u001b[0mfp\u001b[0m\u001b[0;34m)\u001b[0m\u001b[0;34m\u001b[0m\u001b[0;34m\u001b[0m\u001b[0m\n\u001b[0m\u001b[1;32m    650\u001b[0m \u001b[0;34m\u001b[0m\u001b[0m\n",
            "\u001b[0;31mHTTPError\u001b[0m: HTTP Error 400: Bad Request",
            "\nDuring handling of the above exception, another exception occurred:\n",
            "\u001b[0;31mRequestError\u001b[0m                              Traceback (most recent call last)",
            "\u001b[0;32m<ipython-input-28-b1c51f06e3ee>\u001b[0m in \u001b[0;36m<module>\u001b[0;34m\u001b[0m\n\u001b[1;32m      7\u001b[0m   \u001b[0maudio\u001b[0m \u001b[0;34m=\u001b[0m \u001b[0mr\u001b[0m\u001b[0;34m.\u001b[0m\u001b[0mrecord\u001b[0m\u001b[0;34m(\u001b[0m\u001b[0msource\u001b[0m\u001b[0;34m)\u001b[0m\u001b[0;34m\u001b[0m\u001b[0;34m\u001b[0m\u001b[0m\n\u001b[1;32m      8\u001b[0m \u001b[0;34m\u001b[0m\u001b[0m\n\u001b[0;32m----> 9\u001b[0;31m \u001b[0mtext\u001b[0m \u001b[0;34m=\u001b[0m \u001b[0mr\u001b[0m\u001b[0;34m.\u001b[0m\u001b[0mrecognize_google\u001b[0m\u001b[0;34m(\u001b[0m\u001b[0maudio\u001b[0m\u001b[0;34m,\u001b[0m \u001b[0mlanguage\u001b[0m\u001b[0;34m=\u001b[0m\u001b[0;34m'en'\u001b[0m\u001b[0;34m)\u001b[0m\u001b[0;34m\u001b[0m\u001b[0;34m\u001b[0m\u001b[0m\n\u001b[0m\u001b[1;32m     10\u001b[0m \u001b[0mprint\u001b[0m\u001b[0;34m(\u001b[0m\u001b[0mtext\u001b[0m\u001b[0;34m)\u001b[0m\u001b[0;34m\u001b[0m\u001b[0;34m\u001b[0m\u001b[0m\n",
            "\u001b[0;32m/usr/local/lib/python3.8/dist-packages/speech_recognition/__init__.py\u001b[0m in \u001b[0;36mrecognize_google\u001b[0;34m(self, audio_data, key, language, pfilter, show_all, with_confidence)\u001b[0m\n\u001b[1;32m    894\u001b[0m             \u001b[0mresponse\u001b[0m \u001b[0;34m=\u001b[0m \u001b[0murlopen\u001b[0m\u001b[0;34m(\u001b[0m\u001b[0mrequest\u001b[0m\u001b[0;34m,\u001b[0m \u001b[0mtimeout\u001b[0m\u001b[0;34m=\u001b[0m\u001b[0mself\u001b[0m\u001b[0;34m.\u001b[0m\u001b[0moperation_timeout\u001b[0m\u001b[0;34m)\u001b[0m\u001b[0;34m\u001b[0m\u001b[0;34m\u001b[0m\u001b[0m\n\u001b[1;32m    895\u001b[0m         \u001b[0;32mexcept\u001b[0m \u001b[0mHTTPError\u001b[0m \u001b[0;32mas\u001b[0m \u001b[0me\u001b[0m\u001b[0;34m:\u001b[0m\u001b[0;34m\u001b[0m\u001b[0;34m\u001b[0m\u001b[0m\n\u001b[0;32m--> 896\u001b[0;31m             \u001b[0;32mraise\u001b[0m \u001b[0mRequestError\u001b[0m\u001b[0;34m(\u001b[0m\u001b[0;34m\"recognition request failed: {}\"\u001b[0m\u001b[0;34m.\u001b[0m\u001b[0mformat\u001b[0m\u001b[0;34m(\u001b[0m\u001b[0me\u001b[0m\u001b[0;34m.\u001b[0m\u001b[0mreason\u001b[0m\u001b[0;34m)\u001b[0m\u001b[0;34m)\u001b[0m\u001b[0;34m\u001b[0m\u001b[0;34m\u001b[0m\u001b[0m\n\u001b[0m\u001b[1;32m    897\u001b[0m         \u001b[0;32mexcept\u001b[0m \u001b[0mURLError\u001b[0m \u001b[0;32mas\u001b[0m \u001b[0me\u001b[0m\u001b[0;34m:\u001b[0m\u001b[0;34m\u001b[0m\u001b[0;34m\u001b[0m\u001b[0m\n\u001b[1;32m    898\u001b[0m             \u001b[0;32mraise\u001b[0m \u001b[0mRequestError\u001b[0m\u001b[0;34m(\u001b[0m\u001b[0;34m\"recognition connection failed: {}\"\u001b[0m\u001b[0;34m.\u001b[0m\u001b[0mformat\u001b[0m\u001b[0;34m(\u001b[0m\u001b[0me\u001b[0m\u001b[0;34m.\u001b[0m\u001b[0mreason\u001b[0m\u001b[0;34m)\u001b[0m\u001b[0;34m)\u001b[0m\u001b[0;34m\u001b[0m\u001b[0;34m\u001b[0m\u001b[0m\n",
            "\u001b[0;31mRequestError\u001b[0m: recognition request failed: Bad Request"
          ]
        }
      ]
    },
    {
      "cell_type": "markdown",
      "source": [
        "###split audio"
      ],
      "metadata": {
        "id": "h8gcSRiJp_FV"
      }
    },
    {
      "cell_type": "code",
      "source": [
        "#Importing library and thir function\n",
        "from pydub import AudioSegment\n",
        "from pydub.silence import split_on_silence\n",
        "\n",
        "#reading from audio mp3 file\n",
        "sound = AudioSegment.from_mp3(\"/content/Machine Learning.wav\")\n",
        "\n",
        "# spliting audio files\n",
        "# split on silences longer than 1000ms \n",
        "# anything under -16 dBFS is considered silence\n",
        "\n",
        "audio_chunks = split_on_silence(sound, min_silence_len=1000, silence_thresh=-40 )\n",
        "\n"
      ],
      "metadata": {
        "id": "tBE8RM0xRtP3"
      },
      "execution_count": null,
      "outputs": []
    },
    {
      "cell_type": "code",
      "source": [
        "len(audio_chunks)"
      ],
      "metadata": {
        "colab": {
          "base_uri": "https://localhost:8080/"
        },
        "id": "-zieJth4F2Mv",
        "outputId": "49a5057d-0cb1-49a5-9ec8-c0cc91ac7fd7"
      },
      "execution_count": null,
      "outputs": [
        {
          "output_type": "execute_result",
          "data": {
            "text/plain": [
              "15"
            ]
          },
          "metadata": {},
          "execution_count": 29
        }
      ]
    },
    {
      "cell_type": "code",
      "source": [
        "text=\"\"\n",
        "for chunk in audio_chunks:\n",
        "    output_file = \"/content/Machine Learning.wav\"\n",
        "    chunk.export(output_file, format=\"wav\")\n",
        "\n",
        "    audio_file = sr.AudioFile(output_file)\n",
        "\n",
        "    with audio_file as source :\n",
        "      audio = r.record(source)\n",
        "    try:\n",
        "      text += \" \"+r.recognize_google(audio, language='en')\n",
        "    except:\n",
        "      continue\n",
        "\n"
      ],
      "metadata": {
        "id": "w2tfqqJeSHka",
        "colab": {
          "base_uri": "https://localhost:8080/"
        },
        "outputId": "3158c37d-b237-4f8a-afac-404bfe34c5eb"
      },
      "execution_count": null,
      "outputs": [
        {
          "output_type": "stream",
          "name": "stdout",
          "text": [
            "result2:\n",
            "{   'alternative': [   {   'confidence': 0.82564729,\n",
            "                           'transcript': 'the world is filled with data a lot '\n",
            "                                         'of data pictures music words '\n",
            "                                         \"spreadsheets videos and it doesn't \"\n",
            "                                         \"look like it's going to slow down \"\n",
            "                                         'anytime soon machine-learning brings '\n",
            "                                         'the promise of deriving meaning from '\n",
            "                                         'all of that data Arthur C Clark '\n",
            "                                         'famously once said any sufficiently '\n",
            "                                         'advanced technology is '\n",
            "                                         'indistinguishable from Magic'},\n",
            "                       {   'transcript': 'the world is filled with data a lot '\n",
            "                                         'of data pictures music words '\n",
            "                                         \"spreadsheets videos and it doesn't \"\n",
            "                                         \"look like it's going to slow down \"\n",
            "                                         'anytime soon machine-learning brings '\n",
            "                                         'the promise of deriving meaning from '\n",
            "                                         'all of that data Arthur C Clark '\n",
            "                                         'famously once said any sufficiently '\n",
            "                                         'advanced technology is '\n",
            "                                         'indistinguishable from Magic I '\n",
            "                                         'found'},\n",
            "                       {   'transcript': 'the world is filled with data a lot '\n",
            "                                         'of data pictures music words '\n",
            "                                         \"spreadsheets videos and it doesn't \"\n",
            "                                         \"look like it's going to slow down \"\n",
            "                                         'anytime soon machine learning brings '\n",
            "                                         'the promise of deriving meaning from '\n",
            "                                         'all of that data Arthur C Clark '\n",
            "                                         'famously once said any sufficiently '\n",
            "                                         'advanced technology is '\n",
            "                                         'indistinguishable from Magic'},\n",
            "                       {   'transcript': 'the world is filled with data a lot '\n",
            "                                         'of data pictures music words '\n",
            "                                         \"spreadsheets videos and it doesn't \"\n",
            "                                         \"look like it's going to slow down \"\n",
            "                                         'anytime soon machine learning brings '\n",
            "                                         'the promise of deriving meaning from '\n",
            "                                         'all of that data Arthur C Clark '\n",
            "                                         'famously once said any sufficiently '\n",
            "                                         'advanced technology is '\n",
            "                                         'indistinguishable from Magic I '\n",
            "                                         'found'},\n",
            "                       {   'transcript': 'the world is filled with data a lot '\n",
            "                                         'of data pictures music words '\n",
            "                                         \"spreadsheets videos and it doesn't \"\n",
            "                                         \"look like it's going to slow down \"\n",
            "                                         'anytime soon machine-learning brings '\n",
            "                                         'the promise of deriving meaning from '\n",
            "                                         \"all of that data Arthur C Clarke's \"\n",
            "                                         'famously once said any sufficiently '\n",
            "                                         'advanced technology is '\n",
            "                                         'indistinguishable from Magic'}],\n",
            "    'final': True}\n",
            "result2:\n",
            "{   'alternative': [   {   'confidence': 0.78559327,\n",
            "                           'transcript': 'value of machine learning is only '\n",
            "                                         'just beginning to show itself '\n",
            "                                         \"there's a lot of data in the world \"\n",
            "                                         'today generated not only by people '\n",
            "                                         'but also buy computers phones and '\n",
            "                                         'other devices this will only '\n",
            "                                         'continue to grow in the years to '\n",
            "                                         'come traditionally humans have '\n",
            "                                         'analyzed data and adapted systems to '\n",
            "                                         'the changes in data patterns however '\n",
            "                                         'as the volume of data surpasses the '\n",
            "                                         'ability for humans to make sense of '\n",
            "                                         'it in manually write those rules we '\n",
            "                                         'will turn increasingly to automated '\n",
            "                                         'systems that can learn from the data '\n",
            "                                         'and importantly the changes in data '\n",
            "                                         'to adapt to a shifting landscape we '\n",
            "                                         'see machine learning all around us'},\n",
            "                       {   'transcript': 'value of machine learning is only '\n",
            "                                         'just beginning to show itself '\n",
            "                                         \"there's a lot of data in the world \"\n",
            "                                         'today generated not only by people '\n",
            "                                         'but also buy computers phones and '\n",
            "                                         'other devices this will only '\n",
            "                                         'continue to grow in the years to '\n",
            "                                         'come traditionally humans have '\n",
            "                                         'analyzed data and adapted systems to '\n",
            "                                         'the changes in data patterns however '\n",
            "                                         'as the volume of data surpasses the '\n",
            "                                         'ability for humans to make sense of '\n",
            "                                         'it in manually right those rules we '\n",
            "                                         'will turn increasingly to automated '\n",
            "                                         'systems that can learn from the data '\n",
            "                                         'and importantly the changes in data '\n",
            "                                         'to adapt to a shifting landscape we '\n",
            "                                         'see machine learning all around us'},\n",
            "                       {   'transcript': 'value of machine learning is only '\n",
            "                                         'just beginning to show itself '\n",
            "                                         \"there's a lot of data in the world \"\n",
            "                                         'today generated not only by people '\n",
            "                                         'but also buy computers phones and '\n",
            "                                         'other devices this will only '\n",
            "                                         'continue to grow in the years to '\n",
            "                                         'come traditionally humans have '\n",
            "                                         'analyzed data and adapted systems to '\n",
            "                                         'the changes in data patterns however '\n",
            "                                         'as the volume of data surpasses the '\n",
            "                                         'ability for humans to make sense of '\n",
            "                                         'it in manually write those rules we '\n",
            "                                         'will turn increasingly to automated '\n",
            "                                         'systems that can learn from the data '\n",
            "                                         'and importantly the changes in data '\n",
            "                                         'to adapt to a shifting landscape we '\n",
            "                                         'see machine-learning all around us'},\n",
            "                       {   'transcript': 'value of machine learning is only '\n",
            "                                         'just beginning to show itself '\n",
            "                                         \"there's a lot of data in the world \"\n",
            "                                         'today generated not only by people '\n",
            "                                         'but also buy computers phones and '\n",
            "                                         'other devices this will only '\n",
            "                                         'continue to grow in the years to '\n",
            "                                         'come traditionally humans have '\n",
            "                                         'analyzed data and adapted systems to '\n",
            "                                         'the changes in data patterns however '\n",
            "                                         'as the volume of data surpasses the '\n",
            "                                         'ability for humans to make sense of '\n",
            "                                         'it in manually write those rules we '\n",
            "                                         'will turn increasingly to automated '\n",
            "                                         'systems that can learn from the data '\n",
            "                                         'and importantly the changes and data '\n",
            "                                         'to adapt to a shifting landscape we '\n",
            "                                         'see machine learning all around us'},\n",
            "                       {   'transcript': 'value of machine learning is only '\n",
            "                                         'just beginning to show itself '\n",
            "                                         \"there's a lot of data in the world \"\n",
            "                                         'today generated not only by people '\n",
            "                                         'but also buy computers phones and '\n",
            "                                         'other devices this will only '\n",
            "                                         'continue to grow in the years to '\n",
            "                                         'come traditionally humans have '\n",
            "                                         'analyzed data and adapted systems to '\n",
            "                                         'the changes Independence however as '\n",
            "                                         'the volume of data surpasses the '\n",
            "                                         'ability for humans to make sense of '\n",
            "                                         'it in manually write those rules we '\n",
            "                                         'will turn increasingly to automated '\n",
            "                                         'systems that can learn from the data '\n",
            "                                         'and importantly the changes in data '\n",
            "                                         'to adapt to a shifting landscape we '\n",
            "                                         'see machine learning all around us'}],\n",
            "    'final': True}\n",
            "result2:\n",
            "{   'alternative': [   {   'confidence': 0.74911875,\n",
            "                           'transcript': 'wild things like tagging objects and '\n",
            "                                         'people inside of photos are clearly '\n",
            "                                         'machine learning at play it may not '\n",
            "                                         'be immediately apparent that '\n",
            "                                         'recommending the next video to watch '\n",
            "                                         'is also powered by machine'},\n",
            "                       {   'transcript': 'wild things like tagging objects and '\n",
            "                                         'people inside of photos are clearly '\n",
            "                                         'machine-learning at play it may not '\n",
            "                                         'be immediately apparent that '\n",
            "                                         'recommending the next video to watch '\n",
            "                                         'is also powered by machine'},\n",
            "                       {   'transcript': 'wild things like tagging objects and '\n",
            "                                         'people inside of photos are clearly '\n",
            "                                         'machine learning at play it may not '\n",
            "                                         'be immediately apparent that '\n",
            "                                         'recommend in the next video to watch '\n",
            "                                         'is also powered by machine'},\n",
            "                       {   'transcript': 'wild things like tagging objects and '\n",
            "                                         'people inside of photos are clearly '\n",
            "                                         'machine learning at play it may not '\n",
            "                                         'be immediately apparent that '\n",
            "                                         'recommended the next video to watch '\n",
            "                                         'is also powered by machine'},\n",
            "                       {   'transcript': 'wild things like tagging objects and '\n",
            "                                         'people inside of photos are clearly '\n",
            "                                         'machine-learning at play it may not '\n",
            "                                         'be immediately apparent that '\n",
            "                                         'recommend in the next video to watch '\n",
            "                                         'is also powered by machine'}],\n",
            "    'final': True}\n",
            "result2:\n",
            "{   'alternative': [   {   'confidence': 0.63521975,\n",
            "                           'transcript': 'of course perhaps the biggest '\n",
            "                                         'example of all is Google Search '\n",
            "                                         'every time you use Google search you '\n",
            "                                         'using a system that has many machine '\n",
            "                                         'learning systems at its core from '\n",
            "                                         'understanding the text of your query '\n",
            "                                         'to adjusting the results based on '\n",
            "                                         'your personal interests such as '\n",
            "                                         'knowing which results to show you '\n",
            "                                         'first when searching for Java '\n",
            "                                         \"depending on whether you're a coffee \"\n",
            "                                         'expert or developer perhaps your '\n",
            "                                         'book today machine-learning '\n",
            "                                         'izzamedia applications are already '\n",
            "                                         'quite wide-ranging including fraud '\n",
            "                                         'detection and recommendation systems '\n",
            "                                         'as well as to'},\n",
            "                       {   'transcript': 'Acworth perhaps the biggest example '\n",
            "                                         'of all is Google Search every time '\n",
            "                                         'you use Google search you using a '\n",
            "                                         'system that has many machine '\n",
            "                                         'learning systems at its core from '\n",
            "                                         'understanding the text of your query '\n",
            "                                         'to adjusting the results based on '\n",
            "                                         'your personal interests such as '\n",
            "                                         'knowing which results to show you '\n",
            "                                         'first when searching for Java '\n",
            "                                         \"depending on whether you're a coffee \"\n",
            "                                         'expert or developer perhaps your '\n",
            "                                         'book today machine learning '\n",
            "                                         'izzamedia applications are already '\n",
            "                                         'quite wide-ranging including fraud '\n",
            "                                         'detection and recommendation systems '\n",
            "                                         'as well as to'},\n",
            "                       {   'transcript': 'of course perhaps the biggest '\n",
            "                                         'example of all is Google Search '\n",
            "                                         'every time you use Google search you '\n",
            "                                         'using a system that has many machine '\n",
            "                                         'learning systems at its core from '\n",
            "                                         'understanding the text of your query '\n",
            "                                         'to adjusting the results based on '\n",
            "                                         'your personal interests such as '\n",
            "                                         'knowing which results to show you '\n",
            "                                         'first when searching for Java '\n",
            "                                         \"depending on whether you're a coffee \"\n",
            "                                         'expert or developer perhaps your '\n",
            "                                         'book today machine-learning '\n",
            "                                         'izzamedia applications are already '\n",
            "                                         'quite wide-ranging including fraud '\n",
            "                                         'detection and recommendation systems '\n",
            "                                         'as well as two'},\n",
            "                       {   'transcript': 'Acworth perhaps the biggest example '\n",
            "                                         'of all is Google Search every time '\n",
            "                                         'you use Google search you using a '\n",
            "                                         'system that has many machine '\n",
            "                                         'learning systems at its core from '\n",
            "                                         'understanding the text of your query '\n",
            "                                         'to adjusting the results based on '\n",
            "                                         'your personal interests such as '\n",
            "                                         'knowing which results to show you '\n",
            "                                         'first when searching for Java '\n",
            "                                         \"depending on whether you're a coffee \"\n",
            "                                         'expert or developer perhaps your '\n",
            "                                         'book today machine-learning '\n",
            "                                         'izzamedia applications are already '\n",
            "                                         'quite wide-ranging including fraud '\n",
            "                                         'detection and recommendation systems '\n",
            "                                         'as well as to'},\n",
            "                       {   'transcript': 'Acworth perhaps the biggest example '\n",
            "                                         'of all is Google Search every time '\n",
            "                                         'you use Google search you using a '\n",
            "                                         'system that has many machine '\n",
            "                                         'learning systems at its core from '\n",
            "                                         'understanding the text of your query '\n",
            "                                         'to adjusting the results based on '\n",
            "                                         'your personal interests such as '\n",
            "                                         'knowing which results to show you '\n",
            "                                         'first when searching for Java '\n",
            "                                         \"depending on whether you're a coffee \"\n",
            "                                         'expert or developer perhaps your '\n",
            "                                         'book today machine learning '\n",
            "                                         'izzamedia applications are already '\n",
            "                                         'quite wide-ranging including fraud '\n",
            "                                         'detection and recommendation systems '\n",
            "                                         'as well as two'}],\n",
            "    'final': True}\n",
            "result2:\n",
            "{   'alternative': [   {   'confidence': 0.67151606,\n",
            "                           'transcript': \"it wasn't that long ago that when a \"\n",
            "                                         'company or product and machine '\n",
            "                                         \"learning and its offerings who's \"\n",
            "                                         'considered novel now every company '\n",
            "                                         'is pivoting to use machine learning '\n",
            "                                         \"in their products in some way it's \"\n",
            "                                         'rapidly becoming well and expected '\n",
            "                                         'future just as we expect companies '\n",
            "                                         'to have a website that works on your '\n",
            "                                         'mobile device or perhaps an app the '\n",
            "                                         'day will soon come when it will be '\n",
            "                                         'expected that our technology will be '\n",
            "                                         'personalized insightful and self'},\n",
            "                       {   'transcript': \"it wasn't that long ago that when a \"\n",
            "                                         'company or product and machine '\n",
            "                                         \"learning and its offerings who's \"\n",
            "                                         'considered novel now every company '\n",
            "                                         'is pivoting to use machine learning '\n",
            "                                         \"in their products in some way it's \"\n",
            "                                         'rapidly becoming well and expected '\n",
            "                                         'future just as we expect companies '\n",
            "                                         'to have a website that works on your '\n",
            "                                         'mobile device or perhaps a nap the '\n",
            "                                         'day will soon come when it will be '\n",
            "                                         'expected that our technology will be '\n",
            "                                         'personalized insightful and self'},\n",
            "                       {   'transcript': \"it wasn't that long ago I want a \"\n",
            "                                         'company or product and machine '\n",
            "                                         \"learning and its offerings who's \"\n",
            "                                         'considered novel now every company '\n",
            "                                         'is pivoting to use machine learning '\n",
            "                                         \"in their products in some way it's \"\n",
            "                                         'rapidly becoming well and expected '\n",
            "                                         'future just as we expect companies '\n",
            "                                         'to have a website that works on your '\n",
            "                                         'mobile device or perhaps an app the '\n",
            "                                         'day will soon come when it will be '\n",
            "                                         'expected that our technology will be '\n",
            "                                         'personalized insightful and self'},\n",
            "                       {   'transcript': \"it wasn't that long ago that when a \"\n",
            "                                         'company or product and machine '\n",
            "                                         \"learning and its offerings who's \"\n",
            "                                         'considered novel now every company '\n",
            "                                         'is pivoting to use machine-learning '\n",
            "                                         \"in their products in some way it's \"\n",
            "                                         'rapidly becoming well and expected '\n",
            "                                         'future just as we expect companies '\n",
            "                                         'to have a website that works on your '\n",
            "                                         'mobile device or perhaps an app the '\n",
            "                                         'day will soon come when it will be '\n",
            "                                         'expected that our technology will be '\n",
            "                                         'personalized insightful and self'},\n",
            "                       {   'transcript': \"it wasn't that long ago that when a \"\n",
            "                                         'company or product and machine '\n",
            "                                         \"learning and its offerings who's \"\n",
            "                                         'considered novel now every company '\n",
            "                                         'is pivoting to use machine learning '\n",
            "                                         \"in their products in some way it's \"\n",
            "                                         'rapidly becoming well and expected '\n",
            "                                         'future just as we expect companies '\n",
            "                                         'to have a website that works on your '\n",
            "                                         'mobile device or perhaps an app the '\n",
            "                                         'day will soon come when it will be '\n",
            "                                         'expected that our technology will be '\n",
            "                                         'personalised insightful and self'}],\n",
            "    'final': True}\n",
            "result2:\n",
            "{   'alternative': [   {   'confidence': 0.83580929,\n",
            "                           'transcript': 'as we use machine learning to make '\n",
            "                                         'human tasks that are faster and '\n",
            "                                         'easier than before we can also look '\n",
            "                                         'further into the future when machine '\n",
            "                                         'learning can help us to tasks that '\n",
            "                                         'we never could have achieved on our '\n",
            "                                         'own'},\n",
            "                       {   'transcript': 'as we use machine learning to make '\n",
            "                                         'human tasks that are faster and '\n",
            "                                         'easier than before we can also look '\n",
            "                                         'further into the future when machine '\n",
            "                                         'learning can help us to tasks that '\n",
            "                                         'we never could have achieved on '\n",
            "                                         'Earth'},\n",
            "                       {   'transcript': 'as we use machine learning to make '\n",
            "                                         'human tasks that are faster and '\n",
            "                                         'easier than before we can also look '\n",
            "                                         'further into the future 1 machine '\n",
            "                                         'learning can help us to tasks that '\n",
            "                                         'we never could have achieved on our '\n",
            "                                         'own'},\n",
            "                       {   'transcript': 'as we use machine learning to make '\n",
            "                                         'human tasks that are faster and '\n",
            "                                         'easier than before we can also look '\n",
            "                                         'further into the future 1 machine '\n",
            "                                         'learning can help us to tasks that '\n",
            "                                         'we never could have achieved on '\n",
            "                                         'Earth'},\n",
            "                       {   'transcript': 'as we use machine learning to make '\n",
            "                                         'human tasks that are faster and '\n",
            "                                         'easier than before we can also look '\n",
            "                                         'further into the future when machine '\n",
            "                                         'learning can help us to tasks that '\n",
            "                                         'we never could have achieved honor'}],\n",
            "    'final': True}\n",
            "result2:\n",
            "{   'alternative': [   {   'confidence': 0.71314251,\n",
            "                           'transcript': \"thankfully it's not hard to take \"\n",
            "                                         'advantage of machine learning today '\n",
            "                                         \"it's going has gotten quite good all \"\n",
            "                                         'you need is data developers and a '\n",
            "                                         'willingness to take the punch for '\n",
            "                                         \"our purposes I've shortened the \"\n",
            "                                         'definition of machine learning'},\n",
            "                       {   'transcript': \"thankfully it's not hard to take \"\n",
            "                                         'advantage of machine learning today '\n",
            "                                         \"it's going has gone quite good all \"\n",
            "                                         'you need is data developers and a '\n",
            "                                         'willingness to take the punch for '\n",
            "                                         \"our purposes I've shortened the \"\n",
            "                                         'definition of machine learning'},\n",
            "                       {   'transcript': \"thankfully it's not hard to take \"\n",
            "                                         'advantage of machine learning today '\n",
            "                                         \"that's going has gotten quite good \"\n",
            "                                         'all you need is data developers and '\n",
            "                                         'a willingness to take the punch for '\n",
            "                                         \"our purposes I've shortened the \"\n",
            "                                         'definition of machine learning'},\n",
            "                       {   'transcript': \"thankfully it's not hard to take \"\n",
            "                                         'advantage of machine learning today '\n",
            "                                         \"it's going has gotten quite good all \"\n",
            "                                         'you need is data developers and a '\n",
            "                                         'willingness to take the plunge for '\n",
            "                                         \"our purposes I've shortened the \"\n",
            "                                         'definition of machine learning'},\n",
            "                       {   'transcript': \"thankfully it's not hard to take \"\n",
            "                                         'advantage of machine-learning today '\n",
            "                                         \"it's going has gotten quite good all \"\n",
            "                                         'you need is data developers and a '\n",
            "                                         'willingness to take the punch for '\n",
            "                                         \"our purposes I've shortened the \"\n",
            "                                         'definition of machine learning'}],\n",
            "    'final': True}\n",
            "result2:\n",
            "{   'alternative': [   {   'confidence': 0.98762906,\n",
            "                           'transcript': 'using data to answer'}],\n",
            "    'final': True}\n",
            "result2:\n",
            "{   'alternative': [   {   'confidence': 0.77392668,\n",
            "                           'transcript': \"why wouldn't you such a short answer \"\n",
            "                                         'for an essay prompt on exam it '\n",
            "                                         'serves a useful purpose for us here '\n",
            "                                         'in particular we can split the '\n",
            "                                         'definition into two parts using data '\n",
            "                                         'and answer the questions these two '\n",
            "                                         'pieces broadly outline the two sides '\n",
            "                                         'a machine-learning both of them '\n",
            "                                         'equally'},\n",
            "                       {   'transcript': \"why wouldn't you such a short answer \"\n",
            "                                         'for an essay prompt on exam it '\n",
            "                                         'serves a useful purpose for us here '\n",
            "                                         'in particular we can split the '\n",
            "                                         'definition into two parts using data '\n",
            "                                         'and answer the questions these two '\n",
            "                                         'pieces broadly outline the two sides '\n",
            "                                         'machine-learning both of them '\n",
            "                                         'equally'},\n",
            "                       {   'transcript': \"why wouldn't you such a short answer \"\n",
            "                                         'for an essay prompt on exam it '\n",
            "                                         'serves a useful purpose for us here '\n",
            "                                         'in particular we can split the '\n",
            "                                         'definition into two parts using data '\n",
            "                                         'and answer the questions these two '\n",
            "                                         'pieces broadly outlined the two '\n",
            "                                         'sides machine-learning both of them '\n",
            "                                         'equally'},\n",
            "                       {   'transcript': \"why wouldn't you such a short answer \"\n",
            "                                         'for an essay prompt on exam it '\n",
            "                                         'serves a useful purpose for us here '\n",
            "                                         'in particular we can split the '\n",
            "                                         'definition into two parts using data '\n",
            "                                         'and answer the questions these two '\n",
            "                                         'pieces broadly outline the two sides '\n",
            "                                         'of machine learning both of them '\n",
            "                                         'equally'},\n",
            "                       {   'transcript': \"why wouldn't you such a short answer \"\n",
            "                                         'for an essay prompt on exam it '\n",
            "                                         'serves a useful purpose for us here '\n",
            "                                         'in particular we can split the '\n",
            "                                         'definition into two parts using data '\n",
            "                                         'and answer questions these two '\n",
            "                                         'pieces broadly outline the two sides '\n",
            "                                         'a machine-learning both of them '\n",
            "                                         'equally'}],\n",
            "    'final': True}\n",
            "result2:\n",
            "{   'alternative': [   {   'confidence': 0.8441276,\n",
            "                           'transcript': 'using data is what we refer to as '\n",
            "                                         'training well answering questions is '\n",
            "                                         'referred to as making predictions or '\n",
            "                                         \"inference now let's grow into those \"\n",
            "                                         'two sides briefly for a little'},\n",
            "                       {   'transcript': 'using data is what we refer to as '\n",
            "                                         'training well answering questions is '\n",
            "                                         'referred to as making predictions or '\n",
            "                                         \"infants now let's grow into those \"\n",
            "                                         'two sides briefly for a little'},\n",
            "                       {   'transcript': 'using data is what we refer to as '\n",
            "                                         'training while answering questions '\n",
            "                                         'is referred to as making predictions '\n",
            "                                         \"or inference now let's grow into \"\n",
            "                                         'those two sides briefly for a '\n",
            "                                         'little'},\n",
            "                       {   'transcript': 'using data is what we refer to as '\n",
            "                                         'training while answering questions '\n",
            "                                         'is referred to as making predictions '\n",
            "                                         \"or infants now let's grow into those \"\n",
            "                                         'two sides briefly for a little'},\n",
            "                       {   'transcript': 'using data is what we refer to as '\n",
            "                                         'training well answering questions is '\n",
            "                                         'referred to as making predictions '\n",
            "                                         \"for infants now let's grow into \"\n",
            "                                         'those two sides briefly for a '\n",
            "                                         'little'}],\n",
            "    'final': True}\n",
            "result2:\n",
            "{   'alternative': [   {   'confidence': 0.88729894,\n",
            "                           'transcript': 'training refers to using our data to '\n",
            "                                         'inform the creation and fine-tuning '\n",
            "                                         'of a predictive model this '\n",
            "                                         'predictive model can then be used to '\n",
            "                                         'serve up predictions on previously '\n",
            "                                         'unseen data and answer the phone'},\n",
            "                       {   'transcript': 'training refers to using our data to '\n",
            "                                         'inform the creation and fine-tuning '\n",
            "                                         'of a predictive model this '\n",
            "                                         'predictive model can then be used to '\n",
            "                                         'service predictions on previously '\n",
            "                                         'unseen data and answer the phone'},\n",
            "                       {   'transcript': 'training refers to using our data to '\n",
            "                                         'inform the creation and fine-tuning '\n",
            "                                         'of a predictive model this '\n",
            "                                         'predictive model can then be used to '\n",
            "                                         'serve a predictions on previously '\n",
            "                                         'unseen data and answer the phone'},\n",
            "                       {   'transcript': 'training refers to using our data to '\n",
            "                                         'inform the creation and fine-tuning '\n",
            "                                         'of a predictive model this '\n",
            "                                         'predictive model can then be used to '\n",
            "                                         'survive predictions on previously '\n",
            "                                         'unseen data and answer the phone'},\n",
            "                       {   'transcript': 'training refers to using our data to '\n",
            "                                         'inform the creation and fine-tuning '\n",
            "                                         'of a predictive model this '\n",
            "                                         'predictive model can then be used to '\n",
            "                                         'serve our predictions on previously '\n",
            "                                         'unseen data and answer the phone'}],\n",
            "    'final': True}\n",
            "result2:\n",
            "{   'alternative': [   {   'confidence': 0.72947353,\n",
            "                           'transcript': 'asmodeus gather the model can be '\n",
            "                                         'improved over time and new '\n",
            "                                         'predictive models to play'},\n",
            "                       {   'transcript': 'asmodeus gather the model can be '\n",
            "                                         'improved over time and new '\n",
            "                                         'predictive models.'},\n",
            "                       {   'transcript': 'asmodeus gathered at the model can '\n",
            "                                         'be improved over time and new '\n",
            "                                         'predictive models to play'},\n",
            "                       {   'transcript': 'asmodeus gathered the model can be '\n",
            "                                         'improved over time and new '\n",
            "                                         'predictive models to play'},\n",
            "                       {   'transcript': 'asmodeus gather that the model can '\n",
            "                                         'be improved over time and new '\n",
            "                                         'predictive models to play'}],\n",
            "    'final': True}\n",
            "result2:\n",
            "{   'alternative': [   {   'confidence': 0.7756716,\n",
            "                           'transcript': 'as you may have noticed the key '\n",
            "                                         'component of this entire process is '\n",
            "                                         'data everything hinges on data data '\n",
            "                                         'is the key to unlocking machine '\n",
            "                                         'learning as much as machine learning '\n",
            "                                         'is the key to unlocking that hidden '\n",
            "                                         'insight into'},\n",
            "                       {   'transcript': 'as you may have noticed the key '\n",
            "                                         'component of this entire process is '\n",
            "                                         'data everything hinges on data data '\n",
            "                                         'is the key to unlocking machine '\n",
            "                                         'learning as much as machine learning '\n",
            "                                         'is the key to unlocking that hidden '\n",
            "                                         'inside in'},\n",
            "                       {   'transcript': 'as you may have noticed the key '\n",
            "                                         'component of this entire process is '\n",
            "                                         'data everything hinges on data data '\n",
            "                                         'is the key to unlocking machine '\n",
            "                                         'learning as much as machine learning '\n",
            "                                         'is the key to unlocking that hidden '\n",
            "                                         'Insight in'},\n",
            "                       {   'transcript': 'as you may have noticed the key '\n",
            "                                         'component of this entire process is '\n",
            "                                         'data everything hinges on data has '\n",
            "                                         'the key to unlocking machine '\n",
            "                                         'learning as much as machine learning '\n",
            "                                         'is the key to unlocking that hidden '\n",
            "                                         'insight into'},\n",
            "                       {   'transcript': 'as you may have noticed the key '\n",
            "                                         'component of this entire process is '\n",
            "                                         'data everything hinges on data data '\n",
            "                                         'is the key to unlocking machine '\n",
            "                                         'learning just as much as machine '\n",
            "                                         'learning is the key to unlocking '\n",
            "                                         'that hidden insight into'}],\n",
            "    'final': True}\n",
            "result2:\n",
            "{   'alternative': [   {   'confidence': 0.70295453,\n",
            "                           'transcript': 'this was just a high-level overview '\n",
            "                                         \"of machine learning why it's useful \"\n",
            "                                         'and some of its applications machine '\n",
            "                                         'learning is a broad field spanning '\n",
            "                                         'entire family of techniques were '\n",
            "                                         'inferring answers from so in future '\n",
            "                                         'episodes willing to give you a '\n",
            "                                         'better sense of what approaches to '\n",
            "                                         'use for a given data set and '\n",
            "                                         'question you want to answer as well '\n",
            "                                         'as provide the tools for how to '\n",
            "                                         'comp'},\n",
            "                       {   'transcript': 'this was just a high-level overview '\n",
            "                                         \"of machine learning why it's useful \"\n",
            "                                         'and some of its applications machine '\n",
            "                                         'learning is a broad field spanning '\n",
            "                                         'entire family if techniques were '\n",
            "                                         'inferring answers from so in future '\n",
            "                                         'episodes willing to give you a '\n",
            "                                         'better sense of what approaches to '\n",
            "                                         'use for a given data set and '\n",
            "                                         'question you want to answer as well '\n",
            "                                         'as provide the tools for how to '\n",
            "                                         'comp'},\n",
            "                       {   'transcript': 'this was just a high-level overview '\n",
            "                                         'of machine learning why is useful '\n",
            "                                         'and some of its applications machine '\n",
            "                                         'learning is a broad field spanning '\n",
            "                                         'entire family of techniques were '\n",
            "                                         'inferring answers from so in future '\n",
            "                                         'episodes willing to give you a '\n",
            "                                         'better sense of what approaches to '\n",
            "                                         'use for a given data set and '\n",
            "                                         'question you want to answer as well '\n",
            "                                         'as provide the tools for how to '\n",
            "                                         'comp'},\n",
            "                       {   'transcript': 'this was just a high-level overview '\n",
            "                                         'of machine learning why is useful '\n",
            "                                         'and some of its applications machine '\n",
            "                                         'learning is a broad field spanning '\n",
            "                                         'entire family if techniques were '\n",
            "                                         'inferring answers from so in future '\n",
            "                                         'episodes willing to give you a '\n",
            "                                         'better sense of what approaches to '\n",
            "                                         'use for a given data set and '\n",
            "                                         'question you want to answer as well '\n",
            "                                         'as provide the tools for how to '\n",
            "                                         'comp'},\n",
            "                       {   'transcript': 'this was just a high-level overview '\n",
            "                                         \"of machine learning why it's useful \"\n",
            "                                         'and some of its applications machine '\n",
            "                                         'learning is a broad field spanning '\n",
            "                                         'entire family of techniques were '\n",
            "                                         'inferring answers from data so in '\n",
            "                                         'future episodes willing to give you '\n",
            "                                         'a better sense of what approaches to '\n",
            "                                         'use for a given data set and '\n",
            "                                         'question you want to answer as well '\n",
            "                                         'as provide the tools for how to '\n",
            "                                         'comp'}],\n",
            "    'final': True}\n",
            "result2:\n",
            "{   'alternative': [   {   'confidence': 0.81092685,\n",
            "                           'transcript': 'and our next episode will dive right '\n",
            "                                         'into the concrete process of doing '\n",
            "                                         'machine learning in more detail '\n",
            "                                         'going through a step-by-step formula '\n",
            "                                         'for how to approach machine learning '\n",
            "                                         'problems'},\n",
            "                       {   'transcript': 'and our next episode will dive right '\n",
            "                                         'into the concrete process of doing '\n",
            "                                         'machine-learning in more detail '\n",
            "                                         'going through a step-by-step formula '\n",
            "                                         'for how to approach machine learning '\n",
            "                                         'problems'},\n",
            "                       {   'transcript': 'and our next episode will dive right '\n",
            "                                         'into the concrete process of doing '\n",
            "                                         'machine learning in more detail '\n",
            "                                         'going through a step-by-step formula '\n",
            "                                         'for how to approach machine-learning '\n",
            "                                         'problems'},\n",
            "                       {   'transcript': \"and our next episode we'll dive \"\n",
            "                                         'right into the concrete process of '\n",
            "                                         'doing machine learning in more '\n",
            "                                         'detail going through a step-by-step '\n",
            "                                         'formula for how to approach machine '\n",
            "                                         'learning problems'},\n",
            "                       {   'transcript': 'and our next episode will drive '\n",
            "                                         'right into the concrete process of '\n",
            "                                         'doing machine learning in more '\n",
            "                                         'detail going through a step-by-step '\n",
            "                                         'formula for how to approach machine '\n",
            "                                         'learning problems'}],\n",
            "    'final': True}\n"
          ]
        }
      ]
    },
    {
      "cell_type": "code",
      "source": [
        "text"
      ],
      "metadata": {
        "id": "Xm7lHXLMNGYY",
        "colab": {
          "base_uri": "https://localhost:8080/",
          "height": 452
        },
        "outputId": "8db8e75a-368f-4712-9cfe-62de0ef5c4f2"
      },
      "execution_count": null,
      "outputs": [
        {
          "output_type": "execute_result",
          "data": {
            "text/plain": [
              "\" the world is filled with data a lot of data pictures music words spreadsheets videos and it doesn't look like it's going to slow down anytime soon machine-learning brings the promise of deriving meaning from all of that data Arthur C Clark famously once said any sufficiently advanced technology is indistinguishable from Magic value of machine learning is only just beginning to show itself there's a lot of data in the world today generated not only by people but also buy computers phones and other devices this will only continue to grow in the years to come traditionally humans have analyzed data and adapted systems to the changes in data patterns however as the volume of data surpasses the ability for humans to make sense of it in manually write those rules we will turn increasingly to automated systems that can learn from the data and importantly the changes in data to adapt to a shifting landscape we see machine learning all around us wild things like tagging objects and people inside of photos are clearly machine learning at play it may not be immediately apparent that recommending the next video to watch is also powered by machine of course perhaps the biggest example of all is Google Search every time you use Google search you using a system that has many machine learning systems at its core from understanding the text of your query to adjusting the results based on your personal interests such as knowing which results to show you first when searching for Java depending on whether you're a coffee expert or developer perhaps your book today machine-learning izzamedia applications are already quite wide-ranging including fraud detection and recommendation systems as well as to it wasn't that long ago that when a company or product and machine learning and its offerings who's considered novel now every company is pivoting to use machine learning in their products in some way it's rapidly becoming well and expected future just as we expect companies to have a website that works on your mobile device or perhaps an app the day will soon come when it will be expected that our technology will be personalized insightful and self as we use machine learning to make human tasks that are faster and easier than before we can also look further into the future when machine learning can help us to tasks that we never could have achieved on our own thankfully it's not hard to take advantage of machine learning today it's going has gotten quite good all you need is data developers and a willingness to take the punch for our purposes I've shortened the definition of machine learning using data to answer why wouldn't you such a short answer for an essay prompt on exam it serves a useful purpose for us here in particular we can split the definition into two parts using data and answer the questions these two pieces broadly outline the two sides a machine-learning both of them equally using data is what we refer to as training well answering questions is referred to as making predictions or inference now let's grow into those two sides briefly for a little training refers to using our data to inform the creation and fine-tuning of a predictive model this predictive model can then be used to serve up predictions on previously unseen data and answer the phone asmodeus gather the model can be improved over time and new predictive models to play as you may have noticed the key component of this entire process is data everything hinges on data data is the key to unlocking machine learning as much as machine learning is the key to unlocking that hidden insight into this was just a high-level overview of machine learning why it's useful and some of its applications machine learning is a broad field spanning entire family of techniques were inferring answers from so in future episodes willing to give you a better sense of what approaches to use for a given data set and question you want to answer as well as provide the tools for how to comp and our next episode will dive right into the concrete process of doing machine learning in more detail going through a step-by-step formula for how to approach machine learning problems\""
            ],
            "application/vnd.google.colaboratory.intrinsic+json": {
              "type": "string"
            }
          },
          "metadata": {},
          "execution_count": 31
        }
      ]
    },
    {
      "cell_type": "code",
      "source": [],
      "metadata": {
        "id": "MvEp66H8XNU3"
      },
      "execution_count": null,
      "outputs": []
    }
  ],
  "metadata": {
    "colab": {
      "provenance": [],
      "collapsed_sections": [
        "ZF7wzpCLgz6D",
        "v9wgufoBJ6rp",
        "i2HZw-C6SmMN",
        "bYTRLY8JSvRM",
        "ApWc3wKYgtmk",
        "wcOCkngWDUui"
      ],
      "authorship_tag": "ABX9TyPgfZxyLdrUg1L+prj+lUoK",
      "include_colab_link": true
    },
    "kernelspec": {
      "display_name": "Python 3",
      "name": "python3"
    },
    "language_info": {
      "name": "python"
    },
    "accelerator": "GPU",
    "gpuClass": "standard"
  },
  "nbformat": 4,
  "nbformat_minor": 0
}